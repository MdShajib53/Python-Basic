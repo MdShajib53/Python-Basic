{
 "cells": [
  {
   "cell_type": "markdown",
   "id": "5e110ff7-9981-41b8-ba4c-64a4694b0bf8",
   "metadata": {},
   "source": [
    "<h1 style=\"color:Green\">Let's Start Python Basics!!</h1>"
   ]
  },
  {
   "cell_type": "code",
   "execution_count": 1,
   "id": "5ad28d6f-dfb6-424c-b7e6-c451ac4ccc53",
   "metadata": {},
   "outputs": [
    {
     "name": "stdout",
     "output_type": "stream",
     "text": [
      "Hello, Shajib\n"
     ]
    }
   ],
   "source": [
    "print(\"Hello, Shajib\")"
   ]
  },
  {
   "cell_type": "code",
   "execution_count": 2,
   "id": "0d1ffd9e-1ec7-4e4f-879b-c24840244792",
   "metadata": {},
   "outputs": [
    {
     "name": "stdout",
     "output_type": "stream",
     "text": [
      "I'm studying at B.Sc in Engg. at MBSTU\n"
     ]
    }
   ],
   "source": [
    "print(\"I'm studying at B.Sc in Engg. at\", \"MBSTU\")"
   ]
  },
  {
   "cell_type": "code",
   "execution_count": 3,
   "id": "552caf08-90e7-4ccc-a890-aca54ce19033",
   "metadata": {},
   "outputs": [
    {
     "name": "stdout",
     "output_type": "stream",
     "text": [
      "70\n"
     ]
    }
   ],
   "source": [
    "print(20+50)"
   ]
  },
  {
   "cell_type": "code",
   "execution_count": 8,
   "id": "2f9e98b0-8539-449d-a328-bb17e338245c",
   "metadata": {},
   "outputs": [
    {
     "name": "stdout",
     "output_type": "stream",
     "text": [
      "Md Shajib\n"
     ]
    }
   ],
   "source": [
    "print(\"Md\", end=\" \")  #end=\" \" define without \\n give just space\n",
    "print(\"Shajib\")"
   ]
  },
  {
   "cell_type": "raw",
   "id": "c9e79cdc-b959-44dc-9e21-23f7de6a7dbb",
   "metadata": {},
   "source": []
  },
  {
   "cell_type": "markdown",
   "id": "4fc64d97-4641-479d-ba02-b97d00a411d3",
   "metadata": {},
   "source": [
    "# Variables: A variable is a name given to a memory location in a program."
   ]
  },
  {
   "cell_type": "code",
   "execution_count": 5,
   "id": "399159a2-2803-4601-a94d-6678c01b5663",
   "metadata": {},
   "outputs": [],
   "source": [
    "name = \"Shajib\"\n",
    "age = 23\n",
    "price = 560.99"
   ]
  },
  {
   "cell_type": "code",
   "execution_count": 6,
   "id": "923e5ce3-2a79-47ca-9358-5988fde7f5b6",
   "metadata": {},
   "outputs": [
    {
     "name": "stdout",
     "output_type": "stream",
     "text": [
      "Name:  Shajib\n",
      "Age:  23\n",
      "Price:  560.99\n"
     ]
    }
   ],
   "source": [
    "print(\"Name: \",name)\n",
    "print(\"Age: \", age)\n",
    "print(\"Price: \", price);"
   ]
  },
  {
   "cell_type": "code",
   "execution_count": null,
   "id": "ebfc25f4-3073-4f19-8d67-de73fed771a8",
   "metadata": {},
   "outputs": [],
   "source": []
  },
  {
   "cell_type": "code",
   "execution_count": null,
   "id": "4b6fe855-abda-4f2e-bc98-3fd2c47839ea",
   "metadata": {},
   "outputs": [],
   "source": []
  },
  {
   "cell_type": "markdown",
   "id": "2c9638c2-674b-49f9-a7e0-0e6264e80494",
   "metadata": {},
   "source": [
    "# Data Type : Integer, String, Float, Boolean, None"
   ]
  },
  {
   "cell_type": "code",
   "execution_count": 8,
   "id": "4a80ab17-ed36-4470-8954-d8820ed760ff",
   "metadata": {},
   "outputs": [
    {
     "name": "stdout",
     "output_type": "stream",
     "text": [
      "<class 'str'>\n",
      "<class 'int'>\n",
      "<class 'float'>\n"
     ]
    }
   ],
   "source": [
    "print(type(name))\n",
    "print(type(age))\n",
    "print(type(price))"
   ]
  },
  {
   "cell_type": "code",
   "execution_count": 9,
   "id": "ac4048ba-476a-4bd5-83c3-e3a6f7f748ca",
   "metadata": {},
   "outputs": [],
   "source": [
    "str1 = \"Shajib\"\n",
    "str2 = 'Shajib'\n",
    "str3 = '''Shajib'''"
   ]
  },
  {
   "cell_type": "code",
   "execution_count": 10,
   "id": "7be3ff0c-6da8-4881-b715-b5ed29483c9d",
   "metadata": {},
   "outputs": [
    {
     "name": "stdout",
     "output_type": "stream",
     "text": [
      "Shajib Shajib Shajib\n"
     ]
    }
   ],
   "source": [
    "print(str1, str2, str3)"
   ]
  },
  {
   "cell_type": "code",
   "execution_count": 11,
   "id": "3182b4a4-85ad-4e64-a252-b0af00bdb357",
   "metadata": {},
   "outputs": [],
   "source": [
    "isAdult = True \n",
    "x = None"
   ]
  },
  {
   "cell_type": "code",
   "execution_count": 12,
   "id": "871c3436-45d3-4d93-b59d-de02e11dce39",
   "metadata": {},
   "outputs": [
    {
     "name": "stdout",
     "output_type": "stream",
     "text": [
      "<class 'bool'>\n",
      "<class 'NoneType'>\n"
     ]
    }
   ],
   "source": [
    "print(type(isAdult))\n",
    "print(type(x))"
   ]
  },
  {
   "cell_type": "code",
   "execution_count": null,
   "id": "1c3d5d6a-0457-44fa-94d1-18ddb795105a",
   "metadata": {},
   "outputs": [],
   "source": []
  },
  {
   "cell_type": "code",
   "execution_count": null,
   "id": "633d3fe9-306e-4e93-9f86-3cb03d69b4f3",
   "metadata": {},
   "outputs": [],
   "source": []
  },
  {
   "cell_type": "markdown",
   "id": "4d5e7c26-c4a3-4ce8-9dd4-ad45e10e0586",
   "metadata": {},
   "source": [
    "# Keywords: Keywords are reserved words in python."
   ]
  },
  {
   "cell_type": "markdown",
   "id": "14139c5a-2b7b-467e-83ac-4e93f89e1323",
   "metadata": {},
   "source": [
    "##### and, as, assert, break, class, continue, def, del, elif, else, except, finally, False, for, from,, global, if, import, in, is, lambda, nonlocal, None, not, or, pass, raise, return, True, try, with, while, yield."
   ]
  },
  {
   "cell_type": "code",
   "execution_count": null,
   "id": "26bf9473-784e-46e5-ad22-0a73a310561d",
   "metadata": {},
   "outputs": [],
   "source": []
  },
  {
   "cell_type": "markdown",
   "id": "c2df91bb-1752-49b2-91aa-8a92da39622c",
   "metadata": {},
   "source": [
    "## Operators: An operator is a symbol that performs a certain operation between operands."
   ]
  },
  {
   "cell_type": "markdown",
   "id": "d082e0de-5281-4171-9c31-0c2be4ab76f1",
   "metadata": {},
   "source": [
    ".Arithemetic Operators: +  -  *  /  %  **"
   ]
  },
  {
   "cell_type": "markdown",
   "id": "37ba8850-a5d9-4e8c-943b-709cb45605c5",
   "metadata": {},
   "source": [
    ".Relational/Comparison Operators: ==   !=   >   <   >=   <="
   ]
  },
  {
   "cell_type": "markdown",
   "id": "9af89571-9e6e-482e-a683-1eaea64dc1ae",
   "metadata": {},
   "source": [
    ".Assignment Operators: = += -= *= /= %= **="
   ]
  },
  {
   "cell_type": "markdown",
   "id": "38593065-9fb4-41d8-8385-beb886bf2625",
   "metadata": {},
   "source": [
    ".Logial Operators: not, and, or"
   ]
  },
  {
   "cell_type": "code",
   "execution_count": 20,
   "id": "317032bf-4391-4356-93c9-f838f4191daa",
   "metadata": {},
   "outputs": [],
   "source": [
    "num1 = 50\n",
    "num2 = 53\n",
    "sum = num1 + num2\n",
    "sub = num1 - num2\n",
    "mul = num1 * num2 \n",
    "div = num1 / num2 \n",
    "mod = num1 % num2 "
   ]
  },
  {
   "cell_type": "code",
   "execution_count": 21,
   "id": "d725c827-91b3-49c4-886d-c74ead60da0b",
   "metadata": {},
   "outputs": [
    {
     "name": "stdout",
     "output_type": "stream",
     "text": [
      "103 -3 2650 0.9433962264150944 50\n"
     ]
    }
   ],
   "source": [
    "print(sum, sub, mul, div, mod)"
   ]
  },
  {
   "cell_type": "code",
   "execution_count": 22,
   "id": "11c3da8d-f93f-4bbb-8b5e-ce63321636e9",
   "metadata": {},
   "outputs": [],
   "source": [
    "a = 5 \n",
    "p = 3 "
   ]
  },
  {
   "cell_type": "code",
   "execution_count": 23,
   "id": "756dafe1-3db4-4dce-ac46-d430296df6e2",
   "metadata": {},
   "outputs": [
    {
     "name": "stdout",
     "output_type": "stream",
     "text": [
      "125\n"
     ]
    }
   ],
   "source": [
    "print(a**p)"
   ]
  },
  {
   "cell_type": "code",
   "execution_count": 24,
   "id": "9d38cda5-e62f-4a60-a6d5-d856170207de",
   "metadata": {},
   "outputs": [
    {
     "name": "stdout",
     "output_type": "stream",
     "text": [
      "False\n"
     ]
    }
   ],
   "source": [
    "print(a==p)"
   ]
  },
  {
   "cell_type": "code",
   "execution_count": 25,
   "id": "1233204b-65ae-40ac-a291-e2ea3848e6bd",
   "metadata": {},
   "outputs": [
    {
     "name": "stdout",
     "output_type": "stream",
     "text": [
      "True\n"
     ]
    }
   ],
   "source": [
    "print(a!=p)"
   ]
  },
  {
   "cell_type": "code",
   "execution_count": 26,
   "id": "2deda942-efa1-4145-acda-d418519bfdf8",
   "metadata": {},
   "outputs": [
    {
     "name": "stdout",
     "output_type": "stream",
     "text": [
      "True\n"
     ]
    }
   ],
   "source": [
    "print(a>=p)"
   ]
  },
  {
   "cell_type": "code",
   "execution_count": 27,
   "id": "f3192796-0903-43fd-9ea0-a2f6852e9831",
   "metadata": {},
   "outputs": [],
   "source": [
    "a+=p "
   ]
  },
  {
   "cell_type": "code",
   "execution_count": 28,
   "id": "68c48e8e-ce35-443b-81fc-d6eb0d2a9382",
   "metadata": {},
   "outputs": [
    {
     "name": "stdout",
     "output_type": "stream",
     "text": [
      "8\n"
     ]
    }
   ],
   "source": [
    "print(a)"
   ]
  },
  {
   "cell_type": "code",
   "execution_count": 29,
   "id": "cffa1f45-01f5-4eca-8ec9-58252465d4f5",
   "metadata": {},
   "outputs": [],
   "source": [
    "a**=p"
   ]
  },
  {
   "cell_type": "code",
   "execution_count": 30,
   "id": "47411c57-b76e-4a46-a473-1271855e97c2",
   "metadata": {},
   "outputs": [
    {
     "name": "stdout",
     "output_type": "stream",
     "text": [
      "512\n"
     ]
    }
   ],
   "source": [
    "print(a)"
   ]
  },
  {
   "cell_type": "code",
   "execution_count": 31,
   "id": "2bf5d28d-f62a-4d2e-8dd7-c487ebc5b94b",
   "metadata": {},
   "outputs": [
    {
     "name": "stdout",
     "output_type": "stream",
     "text": [
      "True\n"
     ]
    }
   ],
   "source": [
    "print(not False)"
   ]
  },
  {
   "cell_type": "code",
   "execution_count": 32,
   "id": "94b70bbf-5e28-4134-9402-5c6d28340fef",
   "metadata": {},
   "outputs": [
    {
     "name": "stdout",
     "output_type": "stream",
     "text": [
      "True\n"
     ]
    }
   ],
   "source": [
    "x = 50 \n",
    "y = 70\n",
    "print(not (x==y) )"
   ]
  },
  {
   "cell_type": "code",
   "execution_count": null,
   "id": "629503d0-84dc-442b-83a3-349e07031f49",
   "metadata": {},
   "outputs": [],
   "source": []
  },
  {
   "cell_type": "code",
   "execution_count": null,
   "id": "ff7ed1aa-68a2-43fc-8f7c-272fc4cc83e8",
   "metadata": {},
   "outputs": [],
   "source": []
  },
  {
   "cell_type": "code",
   "execution_count": null,
   "id": "cf9d3743-ab9e-4e6d-9a24-4f2bbf79b724",
   "metadata": {},
   "outputs": [],
   "source": []
  },
  {
   "cell_type": "markdown",
   "id": "fb208aef-0098-4b60-95e8-6001b35c19c1",
   "metadata": {},
   "source": [
    "Comments : "
   ]
  },
  {
   "cell_type": "code",
   "execution_count": 34,
   "id": "ff63762e-d394-4a27-a8ab-b9af1065e58e",
   "metadata": {},
   "outputs": [],
   "source": [
    "#This is Comment"
   ]
  },
  {
   "cell_type": "code",
   "execution_count": 35,
   "id": "26af4a2c-5806-420b-9d13-72af60314d85",
   "metadata": {},
   "outputs": [
    {
     "data": {
      "text/plain": [
       "' \\nThis is a \\nMultiline Comment\\n'"
      ]
     },
     "execution_count": 35,
     "metadata": {},
     "output_type": "execute_result"
    }
   ],
   "source": [
    "\"\"\" \n",
    "This is a \n",
    "Multiline Comment\n",
    "\"\"\""
   ]
  },
  {
   "cell_type": "code",
   "execution_count": null,
   "id": "9cbe7085-05e9-4ed9-bb66-0afa2e4782e5",
   "metadata": {},
   "outputs": [],
   "source": []
  },
  {
   "cell_type": "code",
   "execution_count": null,
   "id": "420cd8f6-9e74-4c3e-89b8-f789ffea89f1",
   "metadata": {},
   "outputs": [],
   "source": []
  },
  {
   "cell_type": "markdown",
   "id": "e7328bfd-1a2a-4b0a-b379-5bea3d2e5712",
   "metadata": {},
   "source": [
    "### Type Conversion: Automatically done by python Interpreter"
   ]
  },
  {
   "cell_type": "markdown",
   "id": "08adc345-e601-46f9-a1c6-d313331bcbb3",
   "metadata": {},
   "source": [
    "### Type Casting: Manually change the type"
   ]
  },
  {
   "cell_type": "code",
   "execution_count": 38,
   "id": "24e05519-e0af-49d0-9939-7413eea7222a",
   "metadata": {},
   "outputs": [
    {
     "name": "stdout",
     "output_type": "stream",
     "text": [
      "6.25\n"
     ]
    }
   ],
   "source": [
    "#Type Conversion\n",
    "a = 2\n",
    "b = 4.25\n",
    "sum = a + b # 2.0 + 4.25 = 6.25\n",
    "print(sum)"
   ]
  },
  {
   "cell_type": "code",
   "execution_count": 39,
   "id": "9da40c1b-d3d3-4e12-829d-de823c5e8ee2",
   "metadata": {},
   "outputs": [
    {
     "name": "stdout",
     "output_type": "stream",
     "text": [
      "70.89\n"
     ]
    }
   ],
   "source": [
    "#Type Casting \n",
    "# a = int(float/string/bool/..)\n",
    "\n",
    "str = \"20\"\n",
    "a = int(str)\n",
    "b = 50.89\n",
    "sum = a+b \n",
    "print(a+b)"
   ]
  },
  {
   "cell_type": "code",
   "execution_count": null,
   "id": "2cbc34e3-86fb-474e-bd77-ab5f0ec1c372",
   "metadata": {},
   "outputs": [],
   "source": [
    "\n"
   ]
  },
  {
   "cell_type": "code",
   "execution_count": null,
   "id": "5040187f-363c-4101-995f-55a5a7b7016e",
   "metadata": {},
   "outputs": [],
   "source": []
  },
  {
   "cell_type": "markdown",
   "id": "6bc35054-2071-4764-aea2-1788a4e5c769",
   "metadata": {},
   "source": [
    "\n",
    "Input in Python\n",
    "\n"
   ]
  },
  {
   "cell_type": "markdown",
   "id": "2c792984-2c03-4b3c-bb9a-15e5b0407341",
   "metadata": {},
   "source": [
    "input() statement is used to accept values from user\n"
   ]
  },
  {
   "cell_type": "markdown",
   "id": "2677895a-efb8-45ad-8003-773a551b22d1",
   "metadata": {},
   "source": [
    "input() #result for input() is always a str "
   ]
  },
  {
   "cell_type": "markdown",
   "id": "a974cc8b-8448-4d14-907e-9924e5fc9acd",
   "metadata": {},
   "source": [
    "int(input()) #input integer"
   ]
  },
  {
   "cell_type": "markdown",
   "id": "cd58041f-3032-4395-8542-037506638ea7",
   "metadata": {},
   "source": [
    "float(input()) #input float"
   ]
  },
  {
   "cell_type": "code",
   "execution_count": 45,
   "id": "f6813160-f253-4ac4-9142-ae8d0c64eb47",
   "metadata": {},
   "outputs": [
    {
     "name": "stdin",
     "output_type": "stream",
     "text": [
      "Enter your name :  Md. Shajib\n"
     ]
    }
   ],
   "source": [
    "name = input(\"Enter your name : \")"
   ]
  },
  {
   "cell_type": "code",
   "execution_count": 46,
   "id": "be083caf-1cc0-4b3f-bcbf-196c5c34efd6",
   "metadata": {},
   "outputs": [
    {
     "name": "stdout",
     "output_type": "stream",
     "text": [
      "Md. Shajib\n"
     ]
    }
   ],
   "source": [
    "print(name)"
   ]
  },
  {
   "cell_type": "code",
   "execution_count": 47,
   "id": "9d7b5b89-bde7-40c9-8ce7-033dc7f5eb84",
   "metadata": {},
   "outputs": [
    {
     "name": "stdin",
     "output_type": "stream",
     "text": [
      "Enter your age :  23\n"
     ]
    }
   ],
   "source": [
    "age = int(input(\"Enter your age : \"))"
   ]
  },
  {
   "cell_type": "code",
   "execution_count": 48,
   "id": "995b6bfa-0290-45cd-b2cf-cf8ac62d134a",
   "metadata": {},
   "outputs": [
    {
     "name": "stdout",
     "output_type": "stream",
     "text": [
      "23\n"
     ]
    }
   ],
   "source": [
    "print(age)"
   ]
  },
  {
   "cell_type": "code",
   "execution_count": 49,
   "id": "a81901a6-3602-4b23-bb66-6aaccb3ab4aa",
   "metadata": {},
   "outputs": [
    {
     "name": "stdin",
     "output_type": "stream",
     "text": [
      "Enter price :  53.34\n"
     ]
    }
   ],
   "source": [
    "price = float(input(\"Enter price : \"))"
   ]
  },
  {
   "cell_type": "code",
   "execution_count": 50,
   "id": "bbf74d2d-7a07-48b8-badb-606f65e0dec5",
   "metadata": {},
   "outputs": [
    {
     "name": "stdout",
     "output_type": "stream",
     "text": [
      "53.34\n"
     ]
    }
   ],
   "source": [
    "print(price)"
   ]
  },
  {
   "cell_type": "code",
   "execution_count": 51,
   "id": "b5317a3b-d4c8-459c-bb66-bd81e5ddbaf4",
   "metadata": {},
   "outputs": [
    {
     "name": "stdout",
     "output_type": "stream",
     "text": [
      "<class 'str'> <class 'int'> <class 'float'>\n"
     ]
    }
   ],
   "source": [
    "print(type(name), type(age), type(price))"
   ]
  },
  {
   "cell_type": "code",
   "execution_count": null,
   "id": "d589740c-8cf7-49e9-a461-ebe4aa2f1849",
   "metadata": {},
   "outputs": [],
   "source": []
  },
  {
   "cell_type": "markdown",
   "id": "b8053eeb-105a-4014-b2f6-4e6160083181",
   "metadata": {},
   "source": [
    "### String: String is data type that stores a sequence of characters."
   ]
  },
  {
   "cell_type": "code",
   "execution_count": 53,
   "id": "fb3ab1df-802b-4cd0-874d-510b8893c5e0",
   "metadata": {},
   "outputs": [],
   "source": [
    "str = \"This is a String. I'm Shajib. \\nI'm studying CSE at MBSTU.\""
   ]
  },
  {
   "cell_type": "code",
   "execution_count": 54,
   "id": "84e0ee74-f3f8-4c04-856e-95bb584ed84c",
   "metadata": {},
   "outputs": [
    {
     "name": "stdout",
     "output_type": "stream",
     "text": [
      "This is a String. I'm Shajib. \n",
      "I'm studying CSE at MBSTU.\n"
     ]
    }
   ],
   "source": [
    "print(str)"
   ]
  },
  {
   "cell_type": "code",
   "execution_count": 55,
   "id": "100d4a20-2b37-4ef3-af88-18ea0a0b5c3e",
   "metadata": {},
   "outputs": [
    {
     "name": "stdout",
     "output_type": "stream",
     "text": [
      "Md.Shajib\n"
     ]
    }
   ],
   "source": [
    "str1 = \"Md.\"\n",
    "str2 = \"Shajib\"\n",
    "print(str1+str2) #Concatenation"
   ]
  },
  {
   "cell_type": "code",
   "execution_count": 56,
   "id": "e6ab22ae-4ea5-4614-baab-2d94a45a1066",
   "metadata": {},
   "outputs": [
    {
     "name": "stdout",
     "output_type": "stream",
     "text": [
      "6\n"
     ]
    }
   ],
   "source": [
    "l = len(str2)\n",
    "print(l)"
   ]
  },
  {
   "cell_type": "code",
   "execution_count": 57,
   "id": "f531699d-f87f-49d4-9f66-b45c8cc029d4",
   "metadata": {},
   "outputs": [
    {
     "name": "stdout",
     "output_type": "stream",
     "text": [
      "S\n"
     ]
    }
   ],
   "source": [
    "print(str2[0]) #Indexing"
   ]
  },
  {
   "cell_type": "code",
   "execution_count": null,
   "id": "9cff1c3a-340b-499f-97d2-dafd2cae1270",
   "metadata": {},
   "outputs": [],
   "source": []
  },
  {
   "cell_type": "markdown",
   "id": "5515c475-8b37-4eac-b0e8-2a25c826c5f8",
   "metadata": {},
   "source": [
    "#### Slicing: Accessing parts of a string"
   ]
  },
  {
   "cell_type": "code",
   "execution_count": 59,
   "id": "f2242878-76e5-4ea5-b943-272121597ea3",
   "metadata": {},
   "outputs": [],
   "source": [
    "str = \"ApnaCollege\""
   ]
  },
  {
   "cell_type": "code",
   "execution_count": 60,
   "id": "fc4c69e5-24c9-48f6-83ee-b54386378e31",
   "metadata": {},
   "outputs": [
    {
     "name": "stdout",
     "output_type": "stream",
     "text": [
      "pna\n",
      "Apna\n",
      "pnaCollege\n",
      "ApnaCollege\n"
     ]
    }
   ],
   "source": [
    "# str[starting_idx : ending_idx]\n",
    "print(str[1:4])\n",
    "print(str[:4])\n",
    "print(str[1:])\n",
    "print(str[:])"
   ]
  },
  {
   "cell_type": "code",
   "execution_count": null,
   "id": "4608a2e3-e3ec-4ebe-af17-825bd922afd6",
   "metadata": {},
   "outputs": [],
   "source": []
  },
  {
   "cell_type": "markdown",
   "id": "79db9d7a-1303-4779-9d87-90eef34dc47e",
   "metadata": {},
   "source": [
    "#### Slicing Negative Index"
   ]
  },
  {
   "cell_type": "markdown",
   "id": "2ac8dba5-d79e-488d-a943-2bbde9a583da",
   "metadata": {},
   "source": [
    "str = A p p l e "
   ]
  },
  {
   "cell_type": "markdown",
   "id": "8ef6484a-cec7-41b3-b778-be4886882f23",
   "metadata": {},
   "source": [
    "idx = -5 -4 -3 -2 -1"
   ]
  },
  {
   "cell_type": "code",
   "execution_count": 64,
   "id": "cda50ef1-5b53-4fbf-aff0-34a3429c09f8",
   "metadata": {},
   "outputs": [
    {
     "name": "stdout",
     "output_type": "stream",
     "text": [
      "pl\n"
     ]
    }
   ],
   "source": [
    "str = \"Apple\"\n",
    "print(str[-3:-1])"
   ]
  },
  {
   "cell_type": "code",
   "execution_count": null,
   "id": "4843d912-4eb5-4cc6-87d0-5f48e8bb5bf7",
   "metadata": {},
   "outputs": [],
   "source": []
  },
  {
   "cell_type": "markdown",
   "id": "836ea998-9226-448c-b6c1-a54c6d13715f",
   "metadata": {},
   "source": [
    "### String Function"
   ]
  },
  {
   "cell_type": "code",
   "execution_count": 66,
   "id": "d507e0ed-8a17-47ff-a370-5f8be2385192",
   "metadata": {},
   "outputs": [
    {
     "name": "stdout",
     "output_type": "stream",
     "text": [
      "True\n",
      "False\n"
     ]
    }
   ],
   "source": [
    "str = \"I'm studying Python from ApnaCollege.\"\n",
    "print(str.endswith(\"ege.\"))\n",
    "print(str.endswith(\"app\"))"
   ]
  },
  {
   "cell_type": "code",
   "execution_count": 67,
   "id": "1a821029-2df4-4d4a-a22c-f18878568875",
   "metadata": {},
   "outputs": [
    {
     "name": "stdout",
     "output_type": "stream",
     "text": [
      "I read book\n",
      "i read book\n"
     ]
    }
   ],
   "source": [
    "str = \"i read book\"\n",
    "print(str.capitalize());\n",
    "print(str)"
   ]
  },
  {
   "cell_type": "code",
   "execution_count": 68,
   "id": "74ad498a-cbb5-4715-a61b-3880df9e5921",
   "metadata": {},
   "outputs": [
    {
     "name": "stdout",
     "output_type": "stream",
     "text": [
      "Shajib Shajib\n"
     ]
    }
   ],
   "source": [
    "str = \"Sojib Sojib\"\n",
    "print(str.replace(\"o\",\"ha\"))"
   ]
  },
  {
   "cell_type": "code",
   "execution_count": 69,
   "id": "ce7809ac-37f8-4a70-ae0e-c83a077e95d7",
   "metadata": {},
   "outputs": [
    {
     "name": "stdout",
     "output_type": "stream",
     "text": [
      "10\n",
      "-1\n"
     ]
    }
   ],
   "source": [
    "str = \"This is a string\"\n",
    "idx = str.find(\"string\")\n",
    "print(idx)\n",
    "\n",
    "idx = str.find(\"Rakib\")\n",
    "print(idx)"
   ]
  },
  {
   "cell_type": "code",
   "execution_count": null,
   "id": "7169b82a-6797-4318-acf4-cb3256d12810",
   "metadata": {},
   "outputs": [],
   "source": []
  },
  {
   "cell_type": "code",
   "execution_count": 70,
   "id": "9be83817-47d9-4523-a448-09b43f4800c1",
   "metadata": {},
   "outputs": [
    {
     "name": "stdout",
     "output_type": "stream",
     "text": [
      "2\n"
     ]
    }
   ],
   "source": [
    "str = \"The quick brown fox jumps over The lazy dog\"\n",
    "print(str.count(\"The\"))"
   ]
  },
  {
   "cell_type": "code",
   "execution_count": null,
   "id": "dce4b9bf-ba9c-4169-8ea1-9eab63a522a8",
   "metadata": {},
   "outputs": [],
   "source": []
  },
  {
   "cell_type": "code",
   "execution_count": null,
   "id": "c532cdfe-00b5-4035-9c62-e6f4c5a84753",
   "metadata": {},
   "outputs": [],
   "source": []
  },
  {
   "cell_type": "code",
   "execution_count": null,
   "id": "006b22c4-f95d-4df4-86a8-efc4b5e0712b",
   "metadata": {},
   "outputs": [],
   "source": []
  },
  {
   "cell_type": "markdown",
   "id": "4559ccf1-cc5b-4dab-9743-8b293f0a61cb",
   "metadata": {},
   "source": [
    "### Conditional Statement"
   ]
  },
  {
   "cell_type": "code",
   "execution_count": 72,
   "id": "9da468e9-2181-475b-a3a0-f2442a443d24",
   "metadata": {},
   "outputs": [
    {
     "name": "stdout",
     "output_type": "stream",
     "text": [
      "Adult\n",
      "Can Vote\n",
      "Can Drive\n"
     ]
    }
   ],
   "source": [
    "age = 21 \n",
    "\n",
    "if(age>=18): \n",
    "    print(\"Adult\")\n",
    "    print(\"Can Vote\")\n",
    "    print(\"Can Drive\")\n",
    "elif(age<18 and age>0): \n",
    "    print(\"Not Adult\")\n",
    "    print(\"Can not Vote\")\n",
    "    print(\"Can not Drive\")\n",
    "else: \n",
    "    print(\"Enter a valid age\")"
   ]
  },
  {
   "cell_type": "code",
   "execution_count": null,
   "id": "d673b9a3-3def-46d1-a43d-85d6eb3b2fd1",
   "metadata": {},
   "outputs": [],
   "source": []
  },
  {
   "cell_type": "code",
   "execution_count": null,
   "id": "e818b290-3c00-4ba3-b19d-4862272d850e",
   "metadata": {},
   "outputs": [],
   "source": []
  },
  {
   "cell_type": "markdown",
   "id": "9ff6e825-cfa7-4712-bfa4-cf8481f0ca20",
   "metadata": {},
   "source": [
    "### List: A build-in data type that stores set of values"
   ]
  },
  {
   "cell_type": "markdown",
   "id": "17d3e6ad-55fa-484e-bbb2-fc4f86383191",
   "metadata": {},
   "source": [
    "#### String are Immutable(Doesn't change)"
   ]
  },
  {
   "cell_type": "markdown",
   "id": "3949f186-ffdc-486d-8a59-def82132f970",
   "metadata": {},
   "source": [
    "#### List are Mutable(Can Change)"
   ]
  },
  {
   "cell_type": "code",
   "execution_count": 76,
   "id": "6c843634-594f-45bf-b48f-63b11ca92f1b",
   "metadata": {},
   "outputs": [
    {
     "name": "stdout",
     "output_type": "stream",
     "text": [
      "[94.5, 50.75, 66.5, 45.2]\n",
      "66.5\n",
      "4\n"
     ]
    }
   ],
   "source": [
    "marks = [94.5, 50.75, 66.5, 45.2]\n",
    "print(marks)\n",
    "print(marks[2])\n",
    "print(len(marks))"
   ]
  },
  {
   "cell_type": "code",
   "execution_count": 77,
   "id": "f2b413d9-ec9e-471d-8dd8-1d0193f0e190",
   "metadata": {},
   "outputs": [],
   "source": [
    "student = [\"Md. Shajib\", 23, 97.50, \"Gazipur\"]"
   ]
  },
  {
   "cell_type": "code",
   "execution_count": 78,
   "id": "f5731b13-4858-4bf1-a04a-0cd9fbc8ced7",
   "metadata": {},
   "outputs": [
    {
     "name": "stdout",
     "output_type": "stream",
     "text": [
      "['Md. Shajib', 23, 97.5, 'Gazipur']\n"
     ]
    }
   ],
   "source": [
    "print(student)"
   ]
  },
  {
   "cell_type": "code",
   "execution_count": 79,
   "id": "5527250a-d7dc-4078-8ae0-5a635f25135c",
   "metadata": {},
   "outputs": [],
   "source": [
    "student[0]=\"Shajib\" #Mutable or change the index value"
   ]
  },
  {
   "cell_type": "code",
   "execution_count": 80,
   "id": "848cfc86-d8dc-4d80-8e46-7972192910ca",
   "metadata": {},
   "outputs": [
    {
     "name": "stdout",
     "output_type": "stream",
     "text": [
      "['Shajib', 23, 97.5, 'Gazipur']\n"
     ]
    }
   ],
   "source": [
    "print(student)"
   ]
  },
  {
   "cell_type": "markdown",
   "id": "dddcfbcc-405c-425e-9e2c-568914f05486",
   "metadata": {},
   "source": [
    "List Slicing"
   ]
  },
  {
   "cell_type": "code",
   "execution_count": 82,
   "id": "4e452565-4633-4e86-bf38-33812b766386",
   "metadata": {},
   "outputs": [
    {
     "name": "stdout",
     "output_type": "stream",
     "text": [
      "[23, 97.5, 'Gazipur']\n"
     ]
    }
   ],
   "source": [
    "print(student[1:])"
   ]
  },
  {
   "cell_type": "code",
   "execution_count": null,
   "id": "42484679-183f-40d5-b8ca-9d4113b2ae0b",
   "metadata": {},
   "outputs": [],
   "source": []
  },
  {
   "cell_type": "code",
   "execution_count": null,
   "id": "cfeef570-27a8-4bdc-8ca8-0ce3cbc14d28",
   "metadata": {},
   "outputs": [],
   "source": []
  },
  {
   "cell_type": "markdown",
   "id": "482f9dcb-f489-42ad-a4c4-682dab4c488f",
   "metadata": {},
   "source": [
    "### List Method"
   ]
  },
  {
   "cell_type": "code",
   "execution_count": 84,
   "id": "047d7a1c-4a5b-49b2-a75d-f8e3d243638b",
   "metadata": {},
   "outputs": [
    {
     "name": "stdout",
     "output_type": "stream",
     "text": [
      "[2, 1, 3, 4]\n"
     ]
    }
   ],
   "source": [
    "list = [2, 1, 3]\n",
    "list.append(4)\n",
    "print(list)\n"
   ]
  },
  {
   "cell_type": "code",
   "execution_count": 85,
   "id": "6d22697e-3fda-42b2-b4a8-6cb23c28a4e2",
   "metadata": {},
   "outputs": [
    {
     "name": "stdout",
     "output_type": "stream",
     "text": [
      "[1, 2, 3, 4]\n"
     ]
    }
   ],
   "source": [
    "list.sort()\n",
    "print(list)"
   ]
  },
  {
   "cell_type": "code",
   "execution_count": 86,
   "id": "62bee3f4-8469-4a5f-a5f6-17ac3fb368c5",
   "metadata": {},
   "outputs": [
    {
     "name": "stdout",
     "output_type": "stream",
     "text": [
      "[4, 3, 2, 1]\n"
     ]
    }
   ],
   "source": [
    "list.sort(reverse=True)\n",
    "print(list)"
   ]
  },
  {
   "cell_type": "code",
   "execution_count": 87,
   "id": "dc907dc2-6c18-4dad-8e16-eaa0cbb34d13",
   "metadata": {},
   "outputs": [
    {
     "name": "stdout",
     "output_type": "stream",
     "text": [
      "[1, 2, 3, 4]\n"
     ]
    }
   ],
   "source": [
    "list.reverse()\n",
    "print(list)"
   ]
  },
  {
   "cell_type": "code",
   "execution_count": 88,
   "id": "234506c5-fdb6-46b1-a80e-cccbb6262c43",
   "metadata": {},
   "outputs": [
    {
     "name": "stdout",
     "output_type": "stream",
     "text": [
      "[1, 2, 500, 500, 3, 4]\n"
     ]
    }
   ],
   "source": [
    "list.insert(2,500) #insert(idx,value)\n",
    "list.insert(2,500)\n",
    "print(list)"
   ]
  },
  {
   "cell_type": "code",
   "execution_count": 89,
   "id": "fcf1ec0f-e9dd-4f1d-8dc5-9756d800af08",
   "metadata": {},
   "outputs": [],
   "source": [
    "list.remove(500) #Removes first occurrence of 500"
   ]
  },
  {
   "cell_type": "code",
   "execution_count": 90,
   "id": "136a3a91-e779-43e1-b998-9fa86fa6ca0c",
   "metadata": {},
   "outputs": [
    {
     "name": "stdout",
     "output_type": "stream",
     "text": [
      "[1, 2, 500, 3, 4]\n"
     ]
    }
   ],
   "source": [
    "print(list)"
   ]
  },
  {
   "cell_type": "code",
   "execution_count": 91,
   "id": "5b4a7570-8955-4885-b3f6-60b7286ea007",
   "metadata": {},
   "outputs": [
    {
     "name": "stdout",
     "output_type": "stream",
     "text": [
      "[1, 2, 3, 4]\n"
     ]
    }
   ],
   "source": [
    "list.pop(2) # pop(idx) remove idx value\n",
    "print(list)"
   ]
  },
  {
   "cell_type": "code",
   "execution_count": null,
   "id": "d839f940-2425-4a82-85dd-a9e0955ca57d",
   "metadata": {},
   "outputs": [],
   "source": []
  },
  {
   "cell_type": "code",
   "execution_count": null,
   "id": "e902f41a-deab-4e0e-8157-b716721a9573",
   "metadata": {},
   "outputs": [],
   "source": []
  },
  {
   "cell_type": "markdown",
   "id": "745739a8-7a46-4e13-aa91-b0df97b0154d",
   "metadata": {},
   "source": [
    "### Tuples in Python: A build-in data types that lets us create immutable sequence of values."
   ]
  },
  {
   "cell_type": "code",
   "execution_count": 93,
   "id": "4ff40ddb-9bb1-49ec-b0cf-bceab641906d",
   "metadata": {},
   "outputs": [],
   "source": [
    "tup = (2, 1, 3, 5)"
   ]
  },
  {
   "cell_type": "code",
   "execution_count": 94,
   "id": "2fd9a200-49be-4688-b8bd-8d4be81b31c1",
   "metadata": {},
   "outputs": [
    {
     "name": "stdout",
     "output_type": "stream",
     "text": [
      "<class 'tuple'>\n"
     ]
    }
   ],
   "source": [
    "print(type(tup))"
   ]
  },
  {
   "cell_type": "code",
   "execution_count": 95,
   "id": "37d4b9cd-f630-4048-b12e-417f6dc75254",
   "metadata": {},
   "outputs": [
    {
     "name": "stdout",
     "output_type": "stream",
     "text": [
      "3\n"
     ]
    }
   ],
   "source": [
    "print(tup[2])"
   ]
  },
  {
   "cell_type": "code",
   "execution_count": 96,
   "id": "a9f60ddc-e7d4-47f5-b186-5643779f99cb",
   "metadata": {},
   "outputs": [
    {
     "name": "stdout",
     "output_type": "stream",
     "text": [
      "(2, 1, 3, 5)\n"
     ]
    }
   ],
   "source": [
    "print(tup)"
   ]
  },
  {
   "cell_type": "code",
   "execution_count": null,
   "id": "b2626cbc-547d-4412-85fe-2f8b120b378b",
   "metadata": {},
   "outputs": [],
   "source": []
  },
  {
   "cell_type": "code",
   "execution_count": 97,
   "id": "c97dc216-6407-4829-80b4-44279a2d89f3",
   "metadata": {},
   "outputs": [],
   "source": [
    "tup = (1, ) #Always take comma when elements number is 1"
   ]
  },
  {
   "cell_type": "code",
   "execution_count": 98,
   "id": "b0087d90-ec9f-4c36-8295-dc342b62747f",
   "metadata": {},
   "outputs": [
    {
     "name": "stdout",
     "output_type": "stream",
     "text": [
      "(1,)\n"
     ]
    }
   ],
   "source": [
    "print(tup)"
   ]
  },
  {
   "cell_type": "code",
   "execution_count": 99,
   "id": "39ad4b5c-18d5-4ba0-953f-feb9235e8086",
   "metadata": {},
   "outputs": [
    {
     "name": "stdout",
     "output_type": "stream",
     "text": [
      "<class 'tuple'>\n"
     ]
    }
   ],
   "source": [
    "print(type(tup))"
   ]
  },
  {
   "cell_type": "code",
   "execution_count": 100,
   "id": "d0038c4c-b926-41cc-8215-04afe259ac6b",
   "metadata": {},
   "outputs": [],
   "source": [
    "tup = (1)"
   ]
  },
  {
   "cell_type": "code",
   "execution_count": 101,
   "id": "6da03bb9-509d-436d-b570-caec21a05619",
   "metadata": {},
   "outputs": [
    {
     "name": "stdout",
     "output_type": "stream",
     "text": [
      "<class 'int'>\n"
     ]
    }
   ],
   "source": [
    "print(type(tup))"
   ]
  },
  {
   "cell_type": "code",
   "execution_count": 102,
   "id": "0bbc81b3-1d3f-4abe-9236-4098cb57b88d",
   "metadata": {},
   "outputs": [],
   "source": [
    "tup = (2, 3, 1, 5, 4)\n"
   ]
  },
  {
   "cell_type": "code",
   "execution_count": 103,
   "id": "8259b322-6f76-4fa9-bfea-7fe19fcf7cf1",
   "metadata": {},
   "outputs": [
    {
     "name": "stdout",
     "output_type": "stream",
     "text": [
      "(3, 1, 5)\n"
     ]
    }
   ],
   "source": [
    "print(tup[1:4])"
   ]
  },
  {
   "cell_type": "markdown",
   "id": "025630a6-2678-4dec-a712-e8418ce9f749",
   "metadata": {},
   "source": [
    "### Method in Tuple"
   ]
  },
  {
   "cell_type": "code",
   "execution_count": 105,
   "id": "cfa6e082-bea8-4e3b-b3d6-edac6b5bcc42",
   "metadata": {},
   "outputs": [
    {
     "name": "stdout",
     "output_type": "stream",
     "text": [
      "2\n"
     ]
    }
   ],
   "source": [
    "idx = tup.index(1) #Return index of first occurrence\n",
    "print(idx)"
   ]
  },
  {
   "cell_type": "code",
   "execution_count": 106,
   "id": "8a299b3b-65ba-4a1b-abee-9c5b41f5b5e0",
   "metadata": {},
   "outputs": [
    {
     "name": "stdout",
     "output_type": "stream",
     "text": [
      "1\n"
     ]
    }
   ],
   "source": [
    "tot = tup.count(5) #Return totol occurrences\n",
    "print(tot)"
   ]
  },
  {
   "cell_type": "code",
   "execution_count": 107,
   "id": "609691dc-99a1-46ca-90f1-515d090af59b",
   "metadata": {},
   "outputs": [],
   "source": [
    "grade = (\"C\",\"D\",\"A\",\"A\",\"B\",\"A\",\"C\",\"D\",\"F\",\"A\")"
   ]
  },
  {
   "cell_type": "code",
   "execution_count": 108,
   "id": "77659bf9-fb34-434b-a74a-ffcf10251f00",
   "metadata": {},
   "outputs": [
    {
     "name": "stdout",
     "output_type": "stream",
     "text": [
      "4\n"
     ]
    }
   ],
   "source": [
    "print(grade.count(\"A\"))"
   ]
  },
  {
   "cell_type": "code",
   "execution_count": 109,
   "id": "6a72faa7-df9c-4fbf-8173-26a2477821be",
   "metadata": {},
   "outputs": [
    {
     "name": "stdin",
     "output_type": "stream",
     "text": [
      "Enter 1st movie :  forrest gun\n",
      "Enter 2nd movie :  3idiots\n",
      "Enter 3rd movie :  showshank redumption\n"
     ]
    }
   ],
   "source": [
    "mov1 = input(\"Enter 1st movie : \")\n",
    "mov2 = input(\"Enter 2nd movie : \")\n",
    "mov3 = input(\"Enter 3rd movie : \")"
   ]
  },
  {
   "cell_type": "code",
   "execution_count": 110,
   "id": "9c107549-1d9c-45c0-8e3d-7c57168927b7",
   "metadata": {},
   "outputs": [],
   "source": [
    "list = []"
   ]
  },
  {
   "cell_type": "code",
   "execution_count": 111,
   "id": "2ca52e1e-b7fb-4f68-a2e5-5e590db97152",
   "metadata": {},
   "outputs": [],
   "source": [
    "list.append(mov1)\n",
    "list.append(mov2)\n",
    "list.append(mov3)"
   ]
  },
  {
   "cell_type": "code",
   "execution_count": 112,
   "id": "9aa06897-76f7-49cc-8cd8-c533e4d5bc9f",
   "metadata": {},
   "outputs": [
    {
     "data": {
      "text/plain": [
       "['forrest gun', '3idiots', 'showshank redumption']"
      ]
     },
     "execution_count": 112,
     "metadata": {},
     "output_type": "execute_result"
    }
   ],
   "source": [
    "list"
   ]
  },
  {
   "cell_type": "code",
   "execution_count": null,
   "id": "f49d092c-8c5c-4f95-8643-87f637b2e12b",
   "metadata": {},
   "outputs": [],
   "source": []
  },
  {
   "cell_type": "code",
   "execution_count": 113,
   "id": "56f701ee-e6fa-4cbf-83a4-fdf3292413f3",
   "metadata": {},
   "outputs": [
    {
     "name": "stdin",
     "output_type": "stream",
     "text": [
      "Enter 1st movie name :  The Shawshank Redemption\n",
      "Enter 2nd movie name :  3Idiots\n"
     ]
    }
   ],
   "source": [
    "movies = []\n",
    "movies.append(input(\"Enter 1st movie name : \"))\n",
    "movies.append(input(\"Enter 2nd movie name : \"))"
   ]
  },
  {
   "cell_type": "code",
   "execution_count": 114,
   "id": "4f82c636-8991-4344-9126-1661beadf7ad",
   "metadata": {},
   "outputs": [
    {
     "data": {
      "text/plain": [
       "['The Shawshank Redemption', '3Idiots']"
      ]
     },
     "execution_count": 114,
     "metadata": {},
     "output_type": "execute_result"
    }
   ],
   "source": [
    "movies"
   ]
  },
  {
   "cell_type": "code",
   "execution_count": null,
   "id": "2d87a0f3-794a-45b8-aa5a-b977080565c5",
   "metadata": {},
   "outputs": [],
   "source": []
  },
  {
   "cell_type": "code",
   "execution_count": null,
   "id": "4729691f-b30f-47e5-8f09-970739951ed1",
   "metadata": {},
   "outputs": [],
   "source": []
  },
  {
   "cell_type": "markdown",
   "id": "4c5d0f5c-a30d-42c4-bc5e-337da2c6b38b",
   "metadata": {},
   "source": [
    "## Touple Unpacking  \n",
    "- Tuple can be unpacked directly in variables, making code cleaner and more intuitive"
   ]
  },
  {
   "cell_type": "code",
   "execution_count": 5,
   "id": "6966e407-d603-4b34-847e-f549704ac824",
   "metadata": {},
   "outputs": [
    {
     "name": "stdout",
     "output_type": "stream",
     "text": [
      "('Fish', 'Beef', 'Chiken')\n"
     ]
    }
   ],
   "source": [
    "dishes = (\"Fish\", \"Beef\", \"Chiken\")\n",
    "print(dishes)"
   ]
  },
  {
   "cell_type": "code",
   "execution_count": 7,
   "id": "92c37ac0-8a63-4d41-b5bd-89fe728607f3",
   "metadata": {},
   "outputs": [],
   "source": [
    "a, b, c = dishes"
   ]
  },
  {
   "cell_type": "code",
   "execution_count": 9,
   "id": "94c80af7-19ea-4afc-a89d-2270bfb11012",
   "metadata": {},
   "outputs": [
    {
     "name": "stdout",
     "output_type": "stream",
     "text": [
      "Fish Beef Chiken\n"
     ]
    }
   ],
   "source": [
    "print(a, b, c)"
   ]
  },
  {
   "cell_type": "code",
   "execution_count": null,
   "id": "12da859f-a010-4373-aff4-cfac40505cc5",
   "metadata": {},
   "outputs": [],
   "source": []
  },
  {
   "cell_type": "code",
   "execution_count": 12,
   "id": "5954a1eb-c94d-42f6-87fd-1a75d4b5a404",
   "metadata": {},
   "outputs": [],
   "source": [
    "ID = (\"CE21053\", \"CE21005\", \"CE21023\")\n",
    "Shajib, Habib, Masum = ID "
   ]
  },
  {
   "cell_type": "code",
   "execution_count": null,
   "id": "af6b4283-133b-4563-bcce-db0b549afbbf",
   "metadata": {},
   "outputs": [],
   "source": []
  },
  {
   "cell_type": "code",
   "execution_count": null,
   "id": "fc16d545-756d-4607-bb99-e1cd3cca7e28",
   "metadata": {},
   "outputs": [],
   "source": []
  },
  {
   "cell_type": "code",
   "execution_count": null,
   "id": "ba5358a3-3300-4244-891e-209920c0989b",
   "metadata": {},
   "outputs": [],
   "source": []
  },
  {
   "cell_type": "code",
   "execution_count": null,
   "id": "269fde8d-6c84-481a-92b9-55c78f6cd5b1",
   "metadata": {},
   "outputs": [],
   "source": []
  },
  {
   "cell_type": "code",
   "execution_count": null,
   "id": "ec0eaefe-9047-4946-b478-c69f129c2817",
   "metadata": {},
   "outputs": [],
   "source": []
  },
  {
   "cell_type": "markdown",
   "id": "aa2d338c-2dcf-4946-9702-8e2df956cb17",
   "metadata": {},
   "source": [
    "### Dictionary : Dictionaries are used to store data values in key:value pairs"
   ]
  },
  {
   "cell_type": "markdown",
   "id": "089537ea-7f8a-43b7-a954-4db220a40c88",
   "metadata": {},
   "source": [
    "#### They are unordered, mutable(changable) & don't allow duplicate keys"
   ]
  },
  {
   "cell_type": "code",
   "execution_count": 117,
   "id": "021b19e4-1221-4832-88ba-db0264cd3602",
   "metadata": {},
   "outputs": [],
   "source": [
    "info = {\n",
    "    \"key\" : \"value\", \n",
    "    \"name\" : \"Shajib\", \n",
    "    \"age\" : 23, \n",
    "    \"is_adult\" : True, \n",
    "    \"subjects\" : [\"Python\",\"Data Science\", \"ML\"], \n",
    "    \"topics\" : (\"dict\", \"set\"), \n",
    "    53 : \"This is my ID\",\n",
    "    3.85 : \"This is my Avg cgpa\"\n",
    "}"
   ]
  },
  {
   "cell_type": "code",
   "execution_count": 118,
   "id": "9be741b4-f596-417a-bcbd-7291e44dd28d",
   "metadata": {},
   "outputs": [
    {
     "data": {
      "text/plain": [
       "{'key': 'value',\n",
       " 'name': 'Shajib',\n",
       " 'age': 23,\n",
       " 'is_adult': True,\n",
       " 'subjects': ['Python', 'Data Science', 'ML'],\n",
       " 'topics': ('dict', 'set'),\n",
       " 53: 'This is my ID',\n",
       " 3.85: 'This is my Avg cgpa'}"
      ]
     },
     "execution_count": 118,
     "metadata": {},
     "output_type": "execute_result"
    }
   ],
   "source": [
    "info"
   ]
  },
  {
   "cell_type": "code",
   "execution_count": 119,
   "id": "e8ad37fd-ed54-4830-b2a6-8675c8bb7fcd",
   "metadata": {},
   "outputs": [
    {
     "name": "stdout",
     "output_type": "stream",
     "text": [
      "{'key': 'value', 'name': 'Shajib', 'age': 23, 'is_adult': True, 'subjects': ['Python', 'Data Science', 'ML'], 'topics': ('dict', 'set'), 53: 'This is my ID', 3.85: 'This is my Avg cgpa'}\n"
     ]
    }
   ],
   "source": [
    "print(info)"
   ]
  },
  {
   "cell_type": "code",
   "execution_count": 120,
   "id": "addbee95-c9ab-4c3f-9731-54df21d869fb",
   "metadata": {},
   "outputs": [
    {
     "name": "stdout",
     "output_type": "stream",
     "text": [
      "<class 'dict'>\n"
     ]
    }
   ],
   "source": [
    "print(type(info))"
   ]
  },
  {
   "cell_type": "code",
   "execution_count": 121,
   "id": "5d2a7c1c-2749-4dd9-982f-95304fc2c429",
   "metadata": {},
   "outputs": [
    {
     "name": "stdout",
     "output_type": "stream",
     "text": [
      "Shajib\n"
     ]
    }
   ],
   "source": [
    "print(info[\"name\"])"
   ]
  },
  {
   "cell_type": "code",
   "execution_count": null,
   "id": "035c998c-c207-45ad-85aa-d78ab7069cbd",
   "metadata": {},
   "outputs": [],
   "source": []
  },
  {
   "cell_type": "code",
   "execution_count": 122,
   "id": "48621497-aa31-423b-9498-5f37690ad34b",
   "metadata": {},
   "outputs": [],
   "source": [
    "info[\"name\"] = \"Md. Shajib\""
   ]
  },
  {
   "cell_type": "code",
   "execution_count": 123,
   "id": "9edd9f97-3726-4771-b85e-889f666cd302",
   "metadata": {},
   "outputs": [
    {
     "data": {
      "text/plain": [
       "{'key': 'value',\n",
       " 'name': 'Md. Shajib',\n",
       " 'age': 23,\n",
       " 'is_adult': True,\n",
       " 'subjects': ['Python', 'Data Science', 'ML'],\n",
       " 'topics': ('dict', 'set'),\n",
       " 53: 'This is my ID',\n",
       " 3.85: 'This is my Avg cgpa'}"
      ]
     },
     "execution_count": 123,
     "metadata": {},
     "output_type": "execute_result"
    }
   ],
   "source": [
    "info"
   ]
  },
  {
   "cell_type": "code",
   "execution_count": 124,
   "id": "de7b78bd-ad5f-49f8-99e6-ca8f71a2ca3a",
   "metadata": {},
   "outputs": [],
   "source": [
    "info[\"addNewKey\"] = \"We can easyly add new key\""
   ]
  },
  {
   "cell_type": "code",
   "execution_count": 125,
   "id": "8b509d41-1c12-4d2b-b80a-34b583a43711",
   "metadata": {},
   "outputs": [
    {
     "data": {
      "text/plain": [
       "{'key': 'value',\n",
       " 'name': 'Md. Shajib',\n",
       " 'age': 23,\n",
       " 'is_adult': True,\n",
       " 'subjects': ['Python', 'Data Science', 'ML'],\n",
       " 'topics': ('dict', 'set'),\n",
       " 53: 'This is my ID',\n",
       " 3.85: 'This is my Avg cgpa',\n",
       " 'addNewKey': 'We can easyly add new key'}"
      ]
     },
     "execution_count": 125,
     "metadata": {},
     "output_type": "execute_result"
    }
   ],
   "source": [
    "info"
   ]
  },
  {
   "cell_type": "code",
   "execution_count": null,
   "id": "e9d74b53-2e5a-4c84-8afe-2951fd1bdc81",
   "metadata": {},
   "outputs": [],
   "source": []
  },
  {
   "cell_type": "code",
   "execution_count": null,
   "id": "71e6eae1-bbb2-415b-bbf4-12dafe4b85bf",
   "metadata": {},
   "outputs": [],
   "source": []
  },
  {
   "cell_type": "code",
   "execution_count": 126,
   "id": "2e36a86f-d193-432f-a813-e358fa2be20a",
   "metadata": {},
   "outputs": [],
   "source": [
    "null_dict = {}"
   ]
  },
  {
   "cell_type": "code",
   "execution_count": 127,
   "id": "55616225-655b-42b6-9378-c82b01dc05cc",
   "metadata": {},
   "outputs": [],
   "source": [
    "null_dict[\"name\"] = \"Shajib\""
   ]
  },
  {
   "cell_type": "code",
   "execution_count": 128,
   "id": "607d0eae-0cb4-425e-9781-1fe5107ddf5b",
   "metadata": {},
   "outputs": [
    {
     "name": "stdout",
     "output_type": "stream",
     "text": [
      "{'name': 'Shajib'}\n"
     ]
    }
   ],
   "source": [
    "print(null_dict)"
   ]
  },
  {
   "cell_type": "code",
   "execution_count": null,
   "id": "44852470-2677-403b-aa43-97eaa0a21441",
   "metadata": {},
   "outputs": [],
   "source": []
  },
  {
   "cell_type": "markdown",
   "id": "5503aadf-2bb4-435e-ab92-db04e2b44fbe",
   "metadata": {},
   "source": [
    "### Nested Dictionary"
   ]
  },
  {
   "cell_type": "code",
   "execution_count": 130,
   "id": "96136c95-ddb6-4a7e-9e81-465f2c491b4e",
   "metadata": {},
   "outputs": [],
   "source": [
    "student = {\n",
    "    \"name\" : \"Md Shajib\", \n",
    "    \"subjects\" : {\n",
    "        \"phy\" : 95, \n",
    "        \"chem\" : 93, \n",
    "        \"math\" : 96\n",
    "    }, \n",
    "    \"batch\" : 18\n",
    "}"
   ]
  },
  {
   "cell_type": "code",
   "execution_count": 131,
   "id": "f52c0de8-7983-4d7a-9508-3827e0d8102d",
   "metadata": {},
   "outputs": [
    {
     "data": {
      "text/plain": [
       "{'name': 'Md Shajib',\n",
       " 'subjects': {'phy': 95, 'chem': 93, 'math': 96},\n",
       " 'batch': 18}"
      ]
     },
     "execution_count": 131,
     "metadata": {},
     "output_type": "execute_result"
    }
   ],
   "source": [
    "student"
   ]
  },
  {
   "cell_type": "code",
   "execution_count": 132,
   "id": "909afbd9-91f8-4a19-98ea-c244b587a8df",
   "metadata": {},
   "outputs": [
    {
     "name": "stdout",
     "output_type": "stream",
     "text": [
      "96\n"
     ]
    }
   ],
   "source": [
    "print(student[\"subjects\"][\"math\"])"
   ]
  },
  {
   "cell_type": "code",
   "execution_count": null,
   "id": "2b9d8308-bcde-48e4-a744-573699a6d655",
   "metadata": {},
   "outputs": [],
   "source": []
  },
  {
   "cell_type": "code",
   "execution_count": null,
   "id": "cad3aa92-936f-4bd2-a247-9ce4cc0f9cc4",
   "metadata": {},
   "outputs": [],
   "source": []
  },
  {
   "cell_type": "markdown",
   "id": "bae83389-bf57-400d-9693-22b0e8fa7c7f",
   "metadata": {},
   "source": [
    "### Dictionary Methods"
   ]
  },
  {
   "cell_type": "code",
   "execution_count": 134,
   "id": "5ae01f6b-9133-4646-96a6-2c015c83e67c",
   "metadata": {},
   "outputs": [
    {
     "name": "stdout",
     "output_type": "stream",
     "text": [
      "dict_keys(['name', 'subjects', 'batch'])\n"
     ]
    }
   ],
   "source": [
    "print(student.keys())  #give all keys"
   ]
  },
  {
   "cell_type": "code",
   "execution_count": 135,
   "id": "6d5406e8-a5de-490a-861a-bffd332ddc40",
   "metadata": {},
   "outputs": [
    {
     "name": "stdout",
     "output_type": "stream",
     "text": [
      "3\n"
     ]
    }
   ],
   "source": [
    "print(len(student))"
   ]
  },
  {
   "cell_type": "code",
   "execution_count": 136,
   "id": "78c4b976-1549-42d7-99d1-1315e18813cb",
   "metadata": {},
   "outputs": [
    {
     "name": "stdout",
     "output_type": "stream",
     "text": [
      "dict_values(['Md Shajib', {'phy': 95, 'chem': 93, 'math': 96}, 18])\n"
     ]
    }
   ],
   "source": [
    "print(student.values()) #give all values"
   ]
  },
  {
   "cell_type": "code",
   "execution_count": 137,
   "id": "0944e359-d80e-4267-a010-6765293042dd",
   "metadata": {},
   "outputs": [
    {
     "name": "stdout",
     "output_type": "stream",
     "text": [
      "dict_items([('name', 'Md Shajib'), ('subjects', {'phy': 95, 'chem': 93, 'math': 96}), ('batch', 18)])\n"
     ]
    }
   ],
   "source": [
    "print(student.items()) #return all pairs as tuple"
   ]
  },
  {
   "cell_type": "code",
   "execution_count": null,
   "id": "f21dd063-ba45-4a19-8071-3c3b7e1ee051",
   "metadata": {},
   "outputs": [],
   "source": []
  },
  {
   "cell_type": "code",
   "execution_count": 138,
   "id": "42f88e1f-e637-43c6-97c5-24dc4b31616a",
   "metadata": {},
   "outputs": [
    {
     "name": "stdout",
     "output_type": "stream",
     "text": [
      "Md Shajib\n"
     ]
    }
   ],
   "source": [
    "print(student.get(\"name\"))"
   ]
  },
  {
   "cell_type": "code",
   "execution_count": 139,
   "id": "bd541360-e394-4ee6-ae76-db9fc4c01964",
   "metadata": {},
   "outputs": [
    {
     "name": "stdout",
     "output_type": "stream",
     "text": [
      "None\n"
     ]
    }
   ],
   "source": [
    "print(student.get(\"name2\")) #if key doesn't exist, simply return None"
   ]
  },
  {
   "cell_type": "code",
   "execution_count": 140,
   "id": "a4949539-e498-45b4-94cd-4a008aaace3e",
   "metadata": {},
   "outputs": [
    {
     "ename": "KeyError",
     "evalue": "'name2'",
     "output_type": "error",
     "traceback": [
      "\u001b[1;31m---------------------------------------------------------------------------\u001b[0m",
      "\u001b[1;31mKeyError\u001b[0m                                  Traceback (most recent call last)",
      "Cell \u001b[1;32mIn[140], line 1\u001b[0m\n\u001b[1;32m----> 1\u001b[0m \u001b[38;5;28mprint\u001b[39m(student[\u001b[38;5;124m\"\u001b[39m\u001b[38;5;124mname2\u001b[39m\u001b[38;5;124m\"\u001b[39m])\n",
      "\u001b[1;31mKeyError\u001b[0m: 'name2'"
     ]
    }
   ],
   "source": [
    "print(student[\"name2\"]) #if key doesn't exist, give error"
   ]
  },
  {
   "cell_type": "code",
   "execution_count": null,
   "id": "d1f4a9a6-3960-4702-b891-2983d244077a",
   "metadata": {},
   "outputs": [],
   "source": []
  },
  {
   "cell_type": "code",
   "execution_count": null,
   "id": "d6c41cdc-6bf0-449f-a0f6-fc055f2bd160",
   "metadata": {},
   "outputs": [],
   "source": []
  },
  {
   "cell_type": "code",
   "execution_count": 141,
   "id": "f9c9ba9a-1263-4088-91c5-b37c08dc5f6b",
   "metadata": {},
   "outputs": [],
   "source": [
    "student.update({\"city\" : \"Dhaka\", \"age\" : 23, \"name\" : \"Shajib53\"}) #insert specified item to the dictionary"
   ]
  },
  {
   "cell_type": "code",
   "execution_count": 143,
   "id": "b46c604d-23cb-4247-91a6-948db8693148",
   "metadata": {},
   "outputs": [
    {
     "data": {
      "text/plain": [
       "{'name': 'Shajib53',\n",
       " 'subjects': {'phy': 95, 'chem': 93, 'math': 96},\n",
       " 'batch': 18,\n",
       " 'city': 'Dhaka',\n",
       " 'age': 23}"
      ]
     },
     "execution_count": 143,
     "metadata": {},
     "output_type": "execute_result"
    }
   ],
   "source": [
    "student"
   ]
  },
  {
   "cell_type": "code",
   "execution_count": null,
   "id": "b069c715-912a-4dcd-ba2f-3d49649d7bf0",
   "metadata": {},
   "outputs": [],
   "source": [
    " "
   ]
  },
  {
   "cell_type": "code",
   "execution_count": null,
   "id": "807e550b-beb3-4378-a215-cba7e02ceeb6",
   "metadata": {},
   "outputs": [],
   "source": []
  },
  {
   "cell_type": "markdown",
   "id": "85116b90-57d8-481f-a3ff-054124b84bad",
   "metadata": {},
   "source": [
    "### Set in Python"
   ]
  },
  {
   "cell_type": "markdown",
   "id": "301bbb61-9360-418d-97ae-96271ee75f78",
   "metadata": {},
   "source": [
    "Set is the collection of the unordered items"
   ]
  },
  {
   "cell_type": "markdown",
   "id": "e048108e-11a8-4428-9f45-92f096a83df7",
   "metadata": {},
   "source": [
    "Set is mutable(changable) but within the set, the elements are immutable"
   ]
  },
  {
   "cell_type": "markdown",
   "id": "59ce0eb4-97f7-4d44-af44-50d9cddc1350",
   "metadata": {},
   "source": [
    "Each element in the set must be unique & immutable"
   ]
  },
  {
   "cell_type": "markdown",
   "id": "264ce0d9-93e9-4399-a658-fcb364c02beb",
   "metadata": {},
   "source": [
    "Set ignore duplicate values"
   ]
  },
  {
   "cell_type": "code",
   "execution_count": 18,
   "id": "188aefe0-8242-422b-853c-f464529e517f",
   "metadata": {},
   "outputs": [],
   "source": [
    "collection = {1, 2, 2, 2, \"hello\", \"world\", \"world\", 4}"
   ]
  },
  {
   "cell_type": "code",
   "execution_count": 20,
   "id": "049fb62c-472e-4224-b481-680c394b9d07",
   "metadata": {},
   "outputs": [
    {
     "name": "stdout",
     "output_type": "stream",
     "text": [
      "{1, 2, 'hello', 4, 'world'}\n"
     ]
    }
   ],
   "source": [
    "print(collection)"
   ]
  },
  {
   "cell_type": "code",
   "execution_count": 24,
   "id": "8dd7cd21-ea63-4261-998b-7751f0f95572",
   "metadata": {},
   "outputs": [
    {
     "name": "stdout",
     "output_type": "stream",
     "text": [
      "1\n",
      "2\n",
      "hello\n",
      "4\n",
      "world\n"
     ]
    }
   ],
   "source": [
    "#Iteratively\n",
    "for i in collection: \n",
    "    print(i)"
   ]
  },
  {
   "cell_type": "code",
   "execution_count": 149,
   "id": "3fd8d56e-37a8-4a06-90c5-4f0b49cc9976",
   "metadata": {},
   "outputs": [
    {
     "name": "stdout",
     "output_type": "stream",
     "text": [
      "<class 'set'>\n"
     ]
    }
   ],
   "source": [
    "print(type(collection))"
   ]
  },
  {
   "cell_type": "code",
   "execution_count": 151,
   "id": "3fdd6159-7450-447d-9af6-f9160f9ef02a",
   "metadata": {},
   "outputs": [
    {
     "name": "stdout",
     "output_type": "stream",
     "text": [
      "5\n"
     ]
    }
   ],
   "source": [
    "print(len(collection))"
   ]
  },
  {
   "cell_type": "code",
   "execution_count": 153,
   "id": "5fa40a6a-a02c-406b-95a9-bdc7ec57ecf0",
   "metadata": {},
   "outputs": [],
   "source": [
    "collection = {} #empty dictionary"
   ]
  },
  {
   "cell_type": "code",
   "execution_count": 155,
   "id": "e8b73e78-0df3-4758-8032-a8ea4a6d2337",
   "metadata": {},
   "outputs": [
    {
     "name": "stdout",
     "output_type": "stream",
     "text": [
      "<class 'dict'>\n"
     ]
    }
   ],
   "source": [
    "print(type(collection))"
   ]
  },
  {
   "cell_type": "code",
   "execution_count": 157,
   "id": "948b93c9-8f6a-4d49-9fc1-e6020e2aa8b6",
   "metadata": {},
   "outputs": [],
   "source": [
    "collection = set() #For empty set"
   ]
  },
  {
   "cell_type": "code",
   "execution_count": null,
   "id": "127caea2-3bdd-4ae3-bc32-205834502fdf",
   "metadata": {},
   "outputs": [],
   "source": []
  },
  {
   "cell_type": "code",
   "execution_count": 26,
   "id": "3abb5d45-4ec9-44df-9b73-08f3c0888e31",
   "metadata": {},
   "outputs": [
    {
     "name": "stdout",
     "output_type": "stream",
     "text": [
      "104\n",
      "101\n",
      "102\n",
      "103\n"
     ]
    }
   ],
   "source": [
    "students = {101, 102, 103, 101, 104}\n",
    "for stu in students: \n",
    "    print(stu)"
   ]
  },
  {
   "cell_type": "code",
   "execution_count": null,
   "id": "b85d3133-b284-4008-8c07-7ce281975fbc",
   "metadata": {},
   "outputs": [],
   "source": []
  },
  {
   "cell_type": "code",
   "execution_count": null,
   "id": "01a29d98-298c-45af-94c8-930c2f16c254",
   "metadata": {},
   "outputs": [],
   "source": []
  },
  {
   "cell_type": "markdown",
   "id": "b34c28f8-6053-4438-abcd-40a567adcbde",
   "metadata": {},
   "source": [
    "### Set Method"
   ]
  },
  {
   "cell_type": "code",
   "execution_count": 160,
   "id": "dc7bb410-ec17-49eb-948d-1d2b6b335a49",
   "metadata": {},
   "outputs": [],
   "source": [
    "collection.add(1)\n",
    "collection.add(2)\n",
    "collection.add(2)\n",
    "collection.add(2)\n",
    "collection.add(\"Shajib\")\n",
    "collection.add((1,2,3))"
   ]
  },
  {
   "cell_type": "code",
   "execution_count": 162,
   "id": "7bc29b00-0a4e-431b-b5cc-93fb1369cb08",
   "metadata": {},
   "outputs": [
    {
     "name": "stdout",
     "output_type": "stream",
     "text": [
      "{1, 2, (1, 2, 3), 'Shajib'}\n"
     ]
    }
   ],
   "source": [
    "print(collection)"
   ]
  },
  {
   "cell_type": "code",
   "execution_count": 164,
   "id": "6c8cb00f-1488-4aa5-9914-fe6e112aa972",
   "metadata": {},
   "outputs": [],
   "source": [
    "collection.remove(2)"
   ]
  },
  {
   "cell_type": "code",
   "execution_count": 166,
   "id": "c5c0ca26-3f27-4dd6-b7b9-59e122cbe8cb",
   "metadata": {},
   "outputs": [
    {
     "name": "stdout",
     "output_type": "stream",
     "text": [
      "{1, (1, 2, 3), 'Shajib'}\n"
     ]
    }
   ],
   "source": [
    "print(collection)"
   ]
  },
  {
   "cell_type": "code",
   "execution_count": 168,
   "id": "7aa6b4e6-fb52-4952-96ec-b0ae96639640",
   "metadata": {},
   "outputs": [
    {
     "ename": "KeyError",
     "evalue": "5",
     "output_type": "error",
     "traceback": [
      "\u001b[1;31m---------------------------------------------------------------------------\u001b[0m",
      "\u001b[1;31mKeyError\u001b[0m                                  Traceback (most recent call last)",
      "Cell \u001b[1;32mIn[168], line 1\u001b[0m\n\u001b[1;32m----> 1\u001b[0m collection\u001b[38;5;241m.\u001b[39mremove(\u001b[38;5;241m5\u001b[39m)\n",
      "\u001b[1;31mKeyError\u001b[0m: 5"
     ]
    }
   ],
   "source": [
    "collection.remove(5)"
   ]
  },
  {
   "cell_type": "code",
   "execution_count": null,
   "id": "e399c040-17ca-475e-9f84-c830fcbd299f",
   "metadata": {},
   "outputs": [],
   "source": []
  },
  {
   "cell_type": "code",
   "execution_count": 171,
   "id": "a6319617-8e94-4416-a924-d5ac0a1af598",
   "metadata": {},
   "outputs": [
    {
     "ename": "TypeError",
     "evalue": "unhashable type: 'list'",
     "output_type": "error",
     "traceback": [
      "\u001b[1;31m---------------------------------------------------------------------------\u001b[0m",
      "\u001b[1;31mTypeError\u001b[0m                                 Traceback (most recent call last)",
      "Cell \u001b[1;32mIn[171], line 1\u001b[0m\n\u001b[1;32m----> 1\u001b[0m collection\u001b[38;5;241m.\u001b[39madd([\u001b[38;5;241m10\u001b[39m,\u001b[38;5;241m20\u001b[39m,\u001b[38;5;241m30\u001b[39m])\n",
      "\u001b[1;31mTypeError\u001b[0m: unhashable type: 'list'"
     ]
    }
   ],
   "source": [
    "collection.add([10,20,30]) #Doesn't allow add a list(because list is mutable)"
   ]
  },
  {
   "cell_type": "code",
   "execution_count": null,
   "id": "fafd265c-72f6-4ccf-b3c9-aaf775395cbb",
   "metadata": {},
   "outputs": [],
   "source": []
  },
  {
   "cell_type": "code",
   "execution_count": 174,
   "id": "1f34c676-4642-4ffe-86fc-ee69ba815dbd",
   "metadata": {},
   "outputs": [
    {
     "name": "stdout",
     "output_type": "stream",
     "text": [
      "{1, (1, 2, 3), 'Shajib'}\n"
     ]
    }
   ],
   "source": [
    "print(collection)"
   ]
  },
  {
   "cell_type": "code",
   "execution_count": 176,
   "id": "318190ad-363c-439e-8f40-6d805feb440b",
   "metadata": {},
   "outputs": [
    {
     "data": {
      "text/plain": [
       "1"
      ]
     },
     "execution_count": 176,
     "metadata": {},
     "output_type": "execute_result"
    }
   ],
   "source": [
    "collection.pop() #Remove any random value"
   ]
  },
  {
   "cell_type": "code",
   "execution_count": 178,
   "id": "3983d4d1-7841-406f-acac-a76660e103a7",
   "metadata": {},
   "outputs": [
    {
     "name": "stdout",
     "output_type": "stream",
     "text": [
      "{(1, 2, 3), 'Shajib'}\n"
     ]
    }
   ],
   "source": [
    "print(collection)"
   ]
  },
  {
   "cell_type": "code",
   "execution_count": 180,
   "id": "27595609-e1a5-48b1-8194-bf314686c507",
   "metadata": {},
   "outputs": [],
   "source": [
    "collection.clear()  #Remove all values"
   ]
  },
  {
   "cell_type": "code",
   "execution_count": 182,
   "id": "fb1bde04-0be8-4554-b82b-5eb4377f55fa",
   "metadata": {},
   "outputs": [
    {
     "name": "stdout",
     "output_type": "stream",
     "text": [
      "set()\n"
     ]
    }
   ],
   "source": [
    "print(collection)"
   ]
  },
  {
   "cell_type": "code",
   "execution_count": null,
   "id": "f61617d3-5461-442f-abc4-fd2515cea03f",
   "metadata": {},
   "outputs": [],
   "source": []
  },
  {
   "cell_type": "code",
   "execution_count": null,
   "id": "8a23f080-d12b-498b-966f-1928a92d335c",
   "metadata": {},
   "outputs": [],
   "source": []
  },
  {
   "cell_type": "code",
   "execution_count": 186,
   "id": "548763b1-7b32-4b0c-bbfa-5483bff34d89",
   "metadata": {},
   "outputs": [],
   "source": [
    "set1 = {1, 2, 3}\n",
    "set2 = {2, 3, 4}"
   ]
  },
  {
   "cell_type": "code",
   "execution_count": 188,
   "id": "1338bcbb-5a42-44f8-9baa-94ffec7e5b47",
   "metadata": {},
   "outputs": [],
   "source": [
    "u = set1.union(set2)"
   ]
  },
  {
   "cell_type": "code",
   "execution_count": 190,
   "id": "fb8fcfa9-e09c-4656-b672-720900053403",
   "metadata": {},
   "outputs": [
    {
     "name": "stdout",
     "output_type": "stream",
     "text": [
      "{1, 2, 3, 4}\n"
     ]
    }
   ],
   "source": [
    "print(u)"
   ]
  },
  {
   "cell_type": "code",
   "execution_count": 192,
   "id": "5144d058-adc2-4c12-92c1-2f4b2a0401ff",
   "metadata": {},
   "outputs": [],
   "source": [
    "i = set1.intersection(set2)"
   ]
  },
  {
   "cell_type": "code",
   "execution_count": 194,
   "id": "9eb7b4ea-73ac-40cb-89d7-79e245e323e8",
   "metadata": {},
   "outputs": [
    {
     "name": "stdout",
     "output_type": "stream",
     "text": [
      "{2, 3}\n"
     ]
    }
   ],
   "source": [
    "print(i)"
   ]
  },
  {
   "cell_type": "code",
   "execution_count": null,
   "id": "011c37e0-b8a5-4d24-b9dd-155c87a400eb",
   "metadata": {},
   "outputs": [],
   "source": []
  },
  {
   "cell_type": "code",
   "execution_count": null,
   "id": "440e1c5a-713a-4b8f-9f27-ccf7c42714b2",
   "metadata": {},
   "outputs": [],
   "source": []
  },
  {
   "cell_type": "markdown",
   "id": "64d054db-401d-4b7f-bb45-9d7e8ec2f068",
   "metadata": {},
   "source": [
    "### Loop "
   ]
  },
  {
   "cell_type": "markdown",
   "id": "b8f66e7f-1fec-4bf8-a23d-77ed4653f176",
   "metadata": {},
   "source": [
    "#### Loops are used to repeat instructions"
   ]
  },
  {
   "cell_type": "code",
   "execution_count": 200,
   "id": "06125a4b-5153-418b-ae91-fd533d8b6d20",
   "metadata": {},
   "outputs": [
    {
     "name": "stdout",
     "output_type": "stream",
     "text": [
      "Hello\n",
      "Hello\n",
      "Hello\n",
      "Hello\n",
      "Hello\n"
     ]
    }
   ],
   "source": [
    "i = 1\n",
    "while i<=5 : \n",
    "    print(\"Hello\")\n",
    "    i+=1"
   ]
  },
  {
   "cell_type": "code",
   "execution_count": null,
   "id": "212b4171-98f3-4689-8989-36bc2f549775",
   "metadata": {},
   "outputs": [],
   "source": []
  },
  {
   "cell_type": "code",
   "execution_count": 209,
   "id": "06071698-c64f-4efa-8ef1-0c718d0dab42",
   "metadata": {},
   "outputs": [],
   "source": [
    "heroes = [\"ironman\", \"thor\", \"superman\", \"batman\"]"
   ]
  },
  {
   "cell_type": "code",
   "execution_count": 213,
   "id": "2e2b4a86-dfa0-4fba-b74a-e25399c800f8",
   "metadata": {},
   "outputs": [
    {
     "name": "stdout",
     "output_type": "stream",
     "text": [
      "ironman\n",
      "thor\n",
      "superman\n",
      "batman\n"
     ]
    }
   ],
   "source": [
    "idx = 0\n",
    "while idx < len(heroes) : \n",
    "    print(heroes[idx])\n",
    "    idx+=1"
   ]
  },
  {
   "cell_type": "code",
   "execution_count": null,
   "id": "ec7690e3-e3a0-4c48-9f0e-7170f06523e9",
   "metadata": {},
   "outputs": [],
   "source": []
  },
  {
   "cell_type": "markdown",
   "id": "35add017-a6f9-4719-b035-bd49c67fab45",
   "metadata": {},
   "source": [
    "#### Break: used to terminate the loop when encountered."
   ]
  },
  {
   "cell_type": "markdown",
   "id": "8893b0ac-03a3-4939-bbc6-e1aaea00a8b3",
   "metadata": {},
   "source": [
    "#### Continue: terminates the execution in the current interation and continues execution of the loop with the next iteration"
   ]
  },
  {
   "cell_type": "code",
   "execution_count": null,
   "id": "033c94d7-ffc3-412c-97c8-606d1e7b80cf",
   "metadata": {},
   "outputs": [],
   "source": []
  },
  {
   "cell_type": "code",
   "execution_count": 226,
   "id": "85bce8c8-37e3-4402-870d-94aa63617914",
   "metadata": {},
   "outputs": [
    {
     "name": "stdout",
     "output_type": "stream",
     "text": [
      "Finding...\n",
      "Finding...\n",
      "Finding...\n",
      "Finding...\n",
      "Finding...\n",
      "Found at idx :  5\n"
     ]
    }
   ],
   "source": [
    "nums = (1, 4, 9, 16, 25, 36, 49, 64, 81, 100)\n",
    "key = 36 \n",
    "i = 0\n",
    "while i < len(nums) : \n",
    "    if(nums[i]==key) : \n",
    "        print(\"Found at idx : \", i) \n",
    "        break \n",
    "    else: \n",
    "        print(\"Finding...\")\n",
    "    i+=1\n"
   ]
  },
  {
   "cell_type": "code",
   "execution_count": 228,
   "id": "1f8b15a8-2b13-43ba-a45a-d697fe487394",
   "metadata": {},
   "outputs": [
    {
     "name": "stdout",
     "output_type": "stream",
     "text": [
      "0\n",
      "1\n",
      "2\n",
      "4\n",
      "5\n"
     ]
    }
   ],
   "source": [
    "i = 0\n",
    "while i<=5:\n",
    "    if(i==3): \n",
    "        i+=1\n",
    "        continue\n",
    "    print(i)\n",
    "    i+=1"
   ]
  },
  {
   "cell_type": "code",
   "execution_count": null,
   "id": "b08b589c-5627-4f1c-8724-506197752fd5",
   "metadata": {},
   "outputs": [],
   "source": []
  },
  {
   "cell_type": "code",
   "execution_count": null,
   "id": "cf2cd8f8-6b04-4f1c-b2d8-5d20bf7ac54d",
   "metadata": {},
   "outputs": [],
   "source": []
  },
  {
   "cell_type": "code",
   "execution_count": 234,
   "id": "059c98c7-2c94-4b18-b7c7-1fb9a3863afa",
   "metadata": {},
   "outputs": [
    {
     "name": "stdout",
     "output_type": "stream",
     "text": [
      "potato\n",
      "brinjal\n",
      "ladyfinger\n",
      "cucumber\n"
     ]
    }
   ],
   "source": [
    "veggies = [\"potato\", \"brinjal\", \"ladyfinger\", \"cucumber\"]\n",
    "\n",
    "for val in veggies : \n",
    "    print(val)"
   ]
  },
  {
   "cell_type": "code",
   "execution_count": 236,
   "id": "b2bb5091-985a-4db5-94cb-6fb41000e84e",
   "metadata": {},
   "outputs": [
    {
     "name": "stdout",
     "output_type": "stream",
     "text": [
      "1\n",
      "2\n",
      "3\n",
      "4\n",
      "2\n",
      "3\n",
      "5\n"
     ]
    }
   ],
   "source": [
    "tup = (1, 2, 3, 4, 2 , 3, 5)\n",
    "for num in tup: \n",
    "    print(num)"
   ]
  },
  {
   "cell_type": "markdown",
   "id": "bd4ada96-2691-4787-9c09-bf9d328f8bae",
   "metadata": {},
   "source": [
    "#### for with end"
   ]
  },
  {
   "cell_type": "code",
   "execution_count": 247,
   "id": "12557be1-55b9-40ea-97b9-8cf86d0fdd2a",
   "metadata": {},
   "outputs": [
    {
     "name": "stdout",
     "output_type": "stream",
     "text": [
      "H\n",
      "e\n",
      "l\n",
      "l\n",
      "o\n",
      " \n",
      "f\n",
      "r\n",
      "o\n",
      "m\n",
      " \n",
      "S\n",
      "h\n",
      "a\n",
      "j\n",
      "i\n",
      "b\n",
      "END\n"
     ]
    }
   ],
   "source": [
    "\n",
    "str = \"Hello from Shajib\"\n",
    "for ch in str : \n",
    "    print(ch)\n",
    "    if(ch=='x'): \n",
    "        break\n",
    "else:\n",
    "    print(\"END\")"
   ]
  },
  {
   "cell_type": "code",
   "execution_count": null,
   "id": "280dc18d-7260-4e24-952a-96752c395f79",
   "metadata": {},
   "outputs": [],
   "source": []
  },
  {
   "cell_type": "code",
   "execution_count": null,
   "id": "b25de095-eb86-448b-accc-068ccd79d7be",
   "metadata": {},
   "outputs": [],
   "source": []
  },
  {
   "cell_type": "code",
   "execution_count": null,
   "id": "ad6ed7e0-2a0c-43f4-a1fb-ee7e8f7561d9",
   "metadata": {},
   "outputs": [],
   "source": []
  },
  {
   "cell_type": "markdown",
   "id": "95bd1628-37e2-4d1e-8ffb-843088c10a4f",
   "metadata": {},
   "source": [
    "### Range Function\n"
   ]
  },
  {
   "cell_type": "markdown",
   "id": "8e547de9-0ac7-4178-afc8-b29f3a768f5c",
   "metadata": {},
   "source": [
    "#### Range function returns a sequence of numbers, starting from 0 by default, and increment by 1, and stops before a specified number"
   ]
  },
  {
   "cell_type": "markdown",
   "id": "ef6a9d64-fa60-49fe-8b8a-e92058891013",
   "metadata": {},
   "source": [
    "##### range(start?, stop, step?)"
   ]
  },
  {
   "cell_type": "code",
   "execution_count": 263,
   "id": "48880db4-de1c-41ad-a3f7-06e5139256ba",
   "metadata": {},
   "outputs": [],
   "source": [
    "seq = range(5)"
   ]
  },
  {
   "cell_type": "code",
   "execution_count": 265,
   "id": "81ead674-67b4-4668-909c-b7c2f202e145",
   "metadata": {},
   "outputs": [
    {
     "name": "stdout",
     "output_type": "stream",
     "text": [
      "0\n",
      "1\n",
      "2\n",
      "3\n",
      "4\n"
     ]
    }
   ],
   "source": [
    "for i in seq : \n",
    "    print(i)"
   ]
  },
  {
   "cell_type": "code",
   "execution_count": 267,
   "id": "6f9d2cbc-431c-4530-9040-6863e8bdd88b",
   "metadata": {},
   "outputs": [
    {
     "name": "stdout",
     "output_type": "stream",
     "text": [
      "0\n",
      "1\n",
      "2\n",
      "3\n",
      "4\n"
     ]
    }
   ],
   "source": [
    "for i in range(5) :  #ending idx\n",
    "    print(i)"
   ]
  },
  {
   "cell_type": "code",
   "execution_count": 271,
   "id": "e46f0c65-ad6b-4d6d-9833-61fa2dd4e1a0",
   "metadata": {},
   "outputs": [
    {
     "name": "stdout",
     "output_type": "stream",
     "text": [
      "2\n",
      "3\n",
      "4\n"
     ]
    }
   ],
   "source": [
    "for i in range(2, 5) :   #starting and ending idx\n",
    "    print(i)"
   ]
  },
  {
   "cell_type": "code",
   "execution_count": 273,
   "id": "5586d405-df32-4f9b-a811-587ef17967dd",
   "metadata": {},
   "outputs": [
    {
     "name": "stdout",
     "output_type": "stream",
     "text": [
      "2\n",
      "5\n",
      "8\n",
      "11\n",
      "14\n",
      "17\n"
     ]
    }
   ],
   "source": [
    "for i in range(2, 20, 3) :  #start, stop and step size\n",
    "    print(i)"
   ]
  },
  {
   "cell_type": "code",
   "execution_count": null,
   "id": "a593b59b-7a44-41eb-a058-a4b1bbbb4e69",
   "metadata": {},
   "outputs": [],
   "source": []
  },
  {
   "cell_type": "code",
   "execution_count": null,
   "id": "3f69e79c-2c6d-4a97-9cfd-0fa04cd5026e",
   "metadata": {},
   "outputs": [],
   "source": []
  },
  {
   "cell_type": "markdown",
   "id": "10c91c00-801f-4452-80a5-aa480341a208",
   "metadata": {},
   "source": [
    "### pass Statement"
   ]
  },
  {
   "cell_type": "markdown",
   "id": "fc688d26-b0d3-4b6e-ab0a-b65897fd6275",
   "metadata": {},
   "source": [
    "#### pass is a null statement that does nothing. It is used as a placeholder for future code."
   ]
  },
  {
   "cell_type": "code",
   "execution_count": 279,
   "id": "631794cc-9776-4bcf-a9f1-76469100f983",
   "metadata": {},
   "outputs": [],
   "source": [
    "for el in range(10): \n",
    "    pass"
   ]
  },
  {
   "cell_type": "code",
   "execution_count": null,
   "id": "6a2ce034-ebe0-450b-9b04-45636079cab7",
   "metadata": {},
   "outputs": [],
   "source": []
  },
  {
   "cell_type": "code",
   "execution_count": null,
   "id": "7c23d2d0-e5bd-41f1-9c8e-11af7f8787e9",
   "metadata": {},
   "outputs": [],
   "source": []
  },
  {
   "cell_type": "code",
   "execution_count": null,
   "id": "d11a4658-1b50-46b9-b82c-5ff5e5e2c86d",
   "metadata": {},
   "outputs": [],
   "source": []
  },
  {
   "cell_type": "code",
   "execution_count": null,
   "id": "398de7ef-38bf-4450-a7c2-d821d69d2761",
   "metadata": {},
   "outputs": [],
   "source": []
  },
  {
   "cell_type": "markdown",
   "id": "4cd3a5cb-cb4b-4d62-9de1-6b948ebabac8",
   "metadata": {},
   "source": [
    "### Function in Python"
   ]
  },
  {
   "cell_type": "markdown",
   "id": "9db49726-9d65-4f0f-b8b3-0d43f4286cd3",
   "metadata": {},
   "source": [
    "#### Block of statements that perform a specific task"
   ]
  },
  {
   "cell_type": "code",
   "execution_count": 6,
   "id": "c783d2dc-e272-4d60-be43-37c220041e12",
   "metadata": {},
   "outputs": [
    {
     "name": "stdout",
     "output_type": "stream",
     "text": [
      "253\n"
     ]
    }
   ],
   "source": [
    "def calc_sum(a, b) :\n",
    "    return a+b \n",
    "\n",
    "sum = calc_sum(200, 53) \n",
    "print(sum)"
   ]
  },
  {
   "cell_type": "code",
   "execution_count": 14,
   "id": "9c5e890e-9026-48b7-a62b-78119dca13e5",
   "metadata": {},
   "outputs": [],
   "source": [
    "cities = [\"Dhaka\", \"Ctg\", \"Comilla\", \"Sylhet\", \"Barisal\", \"Rajshahi\", \"Rangpur\", \"Mymensing\"]"
   ]
  },
  {
   "cell_type": "code",
   "execution_count": 16,
   "id": "01cadfaf-f8ec-4e05-97fc-92bd6507e768",
   "metadata": {},
   "outputs": [],
   "source": [
    "def print_len(list): \n",
    "    print(len(list))"
   ]
  },
  {
   "cell_type": "code",
   "execution_count": 18,
   "id": "cdbf6f71-4c75-4fc0-ac42-c8e3d66fce0c",
   "metadata": {},
   "outputs": [
    {
     "name": "stdout",
     "output_type": "stream",
     "text": [
      "8\n"
     ]
    }
   ],
   "source": [
    "print_len(cities)"
   ]
  },
  {
   "cell_type": "code",
   "execution_count": 20,
   "id": "d165dad1-c8e7-440a-994b-5710ec52eceb",
   "metadata": {},
   "outputs": [],
   "source": [
    "def print_list(list): \n",
    "    for item in list: \n",
    "        print(item, end=\" \")"
   ]
  },
  {
   "cell_type": "code",
   "execution_count": 35,
   "id": "b6aee7c4-623c-4e4f-b3e1-53af33633054",
   "metadata": {},
   "outputs": [
    {
     "name": "stdout",
     "output_type": "stream",
     "text": [
      "Dhaka Ctg Comilla Sylhet Barisal Rajshahi Rangpur Mymensing "
     ]
    }
   ],
   "source": [
    "print_list(cities)"
   ]
  },
  {
   "cell_type": "code",
   "execution_count": null,
   "id": "4d601b9e-3594-492e-a870-69ec2a8e2612",
   "metadata": {},
   "outputs": [],
   "source": []
  },
  {
   "cell_type": "code",
   "execution_count": 36,
   "id": "22dce45b-c447-4e13-a09e-7de7db5187df",
   "metadata": {},
   "outputs": [],
   "source": [
    "def cal_fact(n): \n",
    "    fact = 1 \n",
    "    for i in range(1, n+1): \n",
    "        fact*=i\n",
    "    print(fact)"
   ]
  },
  {
   "cell_type": "code",
   "execution_count": 37,
   "id": "ebc2ee5b-e775-4919-80c4-7e993db9e709",
   "metadata": {},
   "outputs": [
    {
     "name": "stdout",
     "output_type": "stream",
     "text": [
      "120\n"
     ]
    }
   ],
   "source": [
    "cal_fact(5)"
   ]
  },
  {
   "cell_type": "code",
   "execution_count": null,
   "id": "ee415258-cf61-4276-afdd-4b9ac91b17c2",
   "metadata": {},
   "outputs": [],
   "source": []
  },
  {
   "cell_type": "code",
   "execution_count": null,
   "id": "cd060d55-ee9a-44b9-bf91-a81cae3a4c18",
   "metadata": {},
   "outputs": [],
   "source": []
  },
  {
   "cell_type": "code",
   "execution_count": null,
   "id": "60921668-375c-4332-bbe5-ddfafa323d05",
   "metadata": {},
   "outputs": [],
   "source": []
  },
  {
   "cell_type": "markdown",
   "id": "b33d0899-254c-405d-8034-7a9b1237c825",
   "metadata": {},
   "source": [
    "### Recursion"
   ]
  },
  {
   "cell_type": "markdown",
   "id": "4f9d1da1-02c4-43ca-9183-6f443462b1ff",
   "metadata": {},
   "source": [
    "#### When a function calls itself repeatedly"
   ]
  },
  {
   "cell_type": "code",
   "execution_count": 51,
   "id": "84f7e9cb-a4b9-4c2f-889d-a108688f0f54",
   "metadata": {},
   "outputs": [],
   "source": [
    "def fact(n): \n",
    "    if(n==0 or n==1): \n",
    "        return 1\n",
    "    else: \n",
    "        return n*fact(n-1)"
   ]
  },
  {
   "cell_type": "code",
   "execution_count": 53,
   "id": "d533100a-3cf0-4879-b88d-153109cd72c7",
   "metadata": {},
   "outputs": [
    {
     "name": "stdout",
     "output_type": "stream",
     "text": [
      "120\n"
     ]
    }
   ],
   "source": [
    "print(fact(5))"
   ]
  },
  {
   "cell_type": "code",
   "execution_count": null,
   "id": "e35ee3d6-6ad7-4ab4-88b1-8027ebea5375",
   "metadata": {},
   "outputs": [],
   "source": []
  },
  {
   "cell_type": "code",
   "execution_count": 70,
   "id": "116ba1d6-8a94-45ec-82f5-3ae77165b3e4",
   "metadata": {},
   "outputs": [],
   "source": [
    "dept = [\"CSE\", \"ICT\", \"TE\", \"ME\"]"
   ]
  },
  {
   "cell_type": "code",
   "execution_count": 5,
   "id": "0bfb83c5-378f-4976-9964-5d5b1d770310",
   "metadata": {},
   "outputs": [],
   "source": [
    "def printList(list, idx):\n",
    "    if(idx<0 or idx>=len(list)) :\n",
    "        return\n",
    "    print(list[idx])\n",
    "    printList(list, idx+1)\n",
    "    "
   ]
  },
  {
   "cell_type": "code",
   "execution_count": 88,
   "id": "80147f8c-b92c-4be3-81c5-ac3da31a0e70",
   "metadata": {},
   "outputs": [
    {
     "name": "stdout",
     "output_type": "stream",
     "text": [
      "CSE\n",
      "ICT\n",
      "TE\n",
      "ME\n"
     ]
    }
   ],
   "source": [
    "printList(dept, 0)"
   ]
  },
  {
   "cell_type": "code",
   "execution_count": null,
   "id": "eaf5cf2f-3e99-4976-abac-c182cb5e0b4b",
   "metadata": {},
   "outputs": [],
   "source": []
  },
  {
   "cell_type": "code",
   "execution_count": null,
   "id": "d143a081-3c11-4166-9180-0e46497ac99f",
   "metadata": {},
   "outputs": [],
   "source": []
  },
  {
   "cell_type": "code",
   "execution_count": null,
   "id": "fdeedfbb-c82d-4551-ac72-66bd7bbd1904",
   "metadata": {},
   "outputs": [],
   "source": []
  },
  {
   "cell_type": "code",
   "execution_count": null,
   "id": "0b8a09ec-e0fe-4f53-b1f1-dee1db9c84f3",
   "metadata": {},
   "outputs": [],
   "source": []
  },
  {
   "cell_type": "markdown",
   "id": "c04ce194-73f2-45b3-921f-75db5759812c",
   "metadata": {},
   "source": [
    "### File I/O in Python"
   ]
  },
  {
   "cell_type": "markdown",
   "id": "110bf047-f8cc-4901-9f1c-4ec953393ab5",
   "metadata": {},
   "source": [
    "#### Python can be used to perform operations on a file(Read & Write)"
   ]
  },
  {
   "cell_type": "markdown",
   "id": "a254c2f1-25e6-4aaa-b7f1-70854b06d0f9",
   "metadata": {},
   "source": [
    "#### Types of all files"
   ]
  },
  {
   "cell_type": "markdown",
   "id": "352bce7b-4c02-4a53-ae9a-2e0a16c8c26f",
   "metadata": {},
   "source": [
    "1. Text Files: .txt, .docx, .log"
   ]
  },
  {
   "cell_type": "markdown",
   "id": "cffe8886-466f-4a1b-8000-e69444b31cb4",
   "metadata": {},
   "source": [
    "2. Binary Files: .mp4, .mov, .png, .jpeg"
   ]
  },
  {
   "cell_type": "code",
   "execution_count": 132,
   "id": "4acc47a0-96d1-424d-8756-1311367ab7bb",
   "metadata": {},
   "outputs": [],
   "source": [
    "f = open(\"sample.txt\", \"r\")"
   ]
  },
  {
   "cell_type": "code",
   "execution_count": 134,
   "id": "d0de02be-2283-480c-a607-e1ccd9e36422",
   "metadata": {},
   "outputs": [],
   "source": [
    "data = f.read()"
   ]
  },
  {
   "cell_type": "code",
   "execution_count": 136,
   "id": "f2db6e7c-810f-47c6-854e-c79bcde6cfff",
   "metadata": {},
   "outputs": [
    {
     "name": "stdout",
     "output_type": "stream",
     "text": [
      "Hello, I'm Shajib.\n",
      "I am learing Python!\n",
      "Python is interesting!!\n"
     ]
    }
   ],
   "source": [
    "print(data)"
   ]
  },
  {
   "cell_type": "code",
   "execution_count": 138,
   "id": "064df606-a1e3-4aa7-b246-3ac4b178599b",
   "metadata": {},
   "outputs": [],
   "source": []
  },
  {
   "cell_type": "code",
   "execution_count": 140,
   "id": "3cd69086-28a3-4da6-a6f8-88a3f57a62fd",
   "metadata": {},
   "outputs": [
    {
     "name": "stdout",
     "output_type": "stream",
     "text": [
      "\n"
     ]
    }
   ],
   "source": []
  },
  {
   "cell_type": "code",
   "execution_count": 142,
   "id": "ac54fe81-6600-4db3-add5-f94338339205",
   "metadata": {},
   "outputs": [
    {
     "name": "stdout",
     "output_type": "stream",
     "text": [
      "<class 'str'>\n"
     ]
    }
   ],
   "source": [
    "print(type(data))"
   ]
  },
  {
   "cell_type": "code",
   "execution_count": 144,
   "id": "21be5794-cc67-4810-a276-958c4eb48adf",
   "metadata": {},
   "outputs": [],
   "source": [
    "f.close()"
   ]
  },
  {
   "cell_type": "code",
   "execution_count": null,
   "id": "fb0773e1-1bc4-4933-a4b0-70f23ad9361d",
   "metadata": {},
   "outputs": [],
   "source": []
  },
  {
   "cell_type": "markdown",
   "id": "0942ecc2-66c2-4163-a271-a281428aa2ba",
   "metadata": {},
   "source": [
    "#### Character and their meaning: "
   ]
  },
  {
   "cell_type": "markdown",
   "id": "8edb3ed8-57b7-4990-80be-c091bc53cbda",
   "metadata": {},
   "source": [
    "r = open for reading(default)"
   ]
  },
  {
   "cell_type": "markdown",
   "id": "f0cdf581-5b32-4894-8e26-e946a13f80bf",
   "metadata": {},
   "source": [
    "w = open for writing, truncating the file first"
   ]
  },
  {
   "cell_type": "markdown",
   "id": "86e92943-65f1-4d41-841f-9a0c4dd5b38a",
   "metadata": {},
   "source": [
    "x = create a new file and open it for writing"
   ]
  },
  {
   "cell_type": "markdown",
   "id": "41811499-3d65-41c9-b41e-091a8d4217da",
   "metadata": {},
   "source": [
    "a = open for writing, appending to the end of the file if it exists"
   ]
  },
  {
   "cell_type": "markdown",
   "id": "cce0d1c3-565e-479a-a18f-1b91ecd9fe7c",
   "metadata": {},
   "source": [
    "b = binary mode"
   ]
  },
  {
   "cell_type": "markdown",
   "id": "2ea9265e-103a-4313-b431-1dff57c53059",
   "metadata": {},
   "source": [
    "t = text mode(default)"
   ]
  },
  {
   "cell_type": "markdown",
   "id": "7db7e4b6-9956-4db7-9fed-6fe16211f650",
   "metadata": {},
   "source": [
    "+ = open a disk file updating (reading and writing)"
   ]
  },
  {
   "cell_type": "code",
   "execution_count": null,
   "id": "1446acaa-4189-4bac-8c96-ac49bb0a2ace",
   "metadata": {},
   "outputs": [],
   "source": []
  },
  {
   "cell_type": "code",
   "execution_count": null,
   "id": "ad345f68-b5f3-4766-970e-b99412651528",
   "metadata": {},
   "outputs": [],
   "source": []
  },
  {
   "cell_type": "markdown",
   "id": "a03914eb-d65c-4b7d-8b80-6c034c3d0bd4",
   "metadata": {},
   "source": [
    "#### Read file"
   ]
  },
  {
   "cell_type": "code",
   "execution_count": 159,
   "id": "74be62ee-3f71-48e5-ae63-14e04f1ff851",
   "metadata": {},
   "outputs": [],
   "source": [
    "f = open(\"text.txt\",\"r\")"
   ]
  },
  {
   "cell_type": "code",
   "execution_count": 161,
   "id": "58f08bb7-c95c-48e8-a960-501134c240ee",
   "metadata": {},
   "outputs": [],
   "source": [
    "data = f.read(5) #Read just 5 character"
   ]
  },
  {
   "cell_type": "code",
   "execution_count": 163,
   "id": "4a5ff726-9d36-4d14-937f-bba78b76bc02",
   "metadata": {},
   "outputs": [
    {
     "name": "stdout",
     "output_type": "stream",
     "text": [
      "Hey, \n"
     ]
    }
   ],
   "source": [
    "print(data)"
   ]
  },
  {
   "cell_type": "code",
   "execution_count": 165,
   "id": "813fcefa-dc3f-42eb-9bd7-f4c475d723ae",
   "metadata": {},
   "outputs": [],
   "source": [
    "f.close()"
   ]
  },
  {
   "cell_type": "code",
   "execution_count": null,
   "id": "626e090d-845e-4283-a63b-eae930bce6fe",
   "metadata": {},
   "outputs": [],
   "source": []
  },
  {
   "cell_type": "code",
   "execution_count": 182,
   "id": "b8ef8c25-a7f9-4235-a283-8d24852c9870",
   "metadata": {},
   "outputs": [],
   "source": [
    "f = open(\"lineByLine.txt\", \"r\")"
   ]
  },
  {
   "cell_type": "code",
   "execution_count": 184,
   "id": "3ce608b1-3190-40e1-bd0d-eec9c2d6d15b",
   "metadata": {},
   "outputs": [
    {
     "name": "stdout",
     "output_type": "stream",
     "text": [
      "First Line\n",
      "Second Line\n",
      "Third Line\n",
      "Fourth Line\n",
      "Fiveth Line"
     ]
    }
   ],
   "source": [
    "line = f.readline()\n",
    "while line : \n",
    "    print(line, end=\"\")\n",
    "    line = f.readline()"
   ]
  },
  {
   "cell_type": "code",
   "execution_count": null,
   "id": "c3fc6cf4-4480-4e75-a25e-c771466d9cf1",
   "metadata": {},
   "outputs": [],
   "source": []
  },
  {
   "cell_type": "code",
   "execution_count": null,
   "id": "53e0e905-ec08-4f35-bd96-59170e46205e",
   "metadata": {},
   "outputs": [],
   "source": []
  },
  {
   "cell_type": "markdown",
   "id": "b1ec23e3-91ef-436e-9704-d9b534e930f9",
   "metadata": {},
   "source": [
    "#### Write file"
   ]
  },
  {
   "cell_type": "code",
   "execution_count": 197,
   "id": "2dcc8832-821e-45b1-a598-2dbed09e3b31",
   "metadata": {},
   "outputs": [],
   "source": [
    "f = open(\"hello.txt\", \"w\")"
   ]
  },
  {
   "cell_type": "code",
   "execution_count": 199,
   "id": "b8cded03-c978-4220-abf2-90f45cb24b01",
   "metadata": {},
   "outputs": [
    {
     "data": {
      "text/plain": [
       "70"
      ]
     },
     "execution_count": 199,
     "metadata": {},
     "output_type": "execute_result"
    }
   ],
   "source": [
    "f.write(\"Now we change the file txt\\nThis is the 2nd line of the changing file!!\")"
   ]
  },
  {
   "cell_type": "code",
   "execution_count": 201,
   "id": "1ea354d1-ee23-44c3-bf23-6d690b44405f",
   "metadata": {},
   "outputs": [],
   "source": [
    "f.close()"
   ]
  },
  {
   "cell_type": "code",
   "execution_count": null,
   "id": "dbf9b0b5-6f7f-4cf8-a882-6cfac05c8da7",
   "metadata": {},
   "outputs": [],
   "source": []
  },
  {
   "cell_type": "code",
   "execution_count": null,
   "id": "6c15c745-af33-481d-afcf-22f1ba099ef0",
   "metadata": {},
   "outputs": [],
   "source": []
  },
  {
   "cell_type": "markdown",
   "id": "dc7167a7-a309-4001-a8ca-e937e9206bd4",
   "metadata": {},
   "source": [
    "#### Append file "
   ]
  },
  {
   "cell_type": "code",
   "execution_count": 206,
   "id": "7dc1fda8-50b7-400d-9900-cece9d2dd365",
   "metadata": {},
   "outputs": [],
   "source": [
    "f = open(\"hello.txt\", \"a\")"
   ]
  },
  {
   "cell_type": "code",
   "execution_count": 208,
   "id": "a2fe541b-783b-4a0f-bcf8-d8c81e29084c",
   "metadata": {},
   "outputs": [
    {
     "data": {
      "text/plain": [
       "37"
      ]
     },
     "execution_count": 208,
     "metadata": {},
     "output_type": "execute_result"
    }
   ],
   "source": [
    "f.write(\"\\nNow we append text using append mode\")"
   ]
  },
  {
   "cell_type": "code",
   "execution_count": 210,
   "id": "21c390a4-d92f-44bd-9488-604c33a22cac",
   "metadata": {},
   "outputs": [],
   "source": [
    "f.close()"
   ]
  },
  {
   "cell_type": "code",
   "execution_count": null,
   "id": "2832cb20-9625-41dd-ab7d-5f46cd9c258d",
   "metadata": {},
   "outputs": [],
   "source": [
    " "
   ]
  },
  {
   "cell_type": "code",
   "execution_count": null,
   "id": "e5bcda53-77b8-4519-8953-85e13c9f2274",
   "metadata": {},
   "outputs": [],
   "source": []
  },
  {
   "cell_type": "code",
   "execution_count": null,
   "id": "81ff7bc1-48fb-4575-965b-61e1bd12e3ed",
   "metadata": {},
   "outputs": [],
   "source": []
  },
  {
   "cell_type": "code",
   "execution_count": null,
   "id": "f1a9303b-a662-459c-a6c1-7e9018bd2c4f",
   "metadata": {},
   "outputs": [],
   "source": []
  },
  {
   "cell_type": "code",
   "execution_count": null,
   "id": "5e41a279-85e8-4693-86ea-2edbc8a4027a",
   "metadata": {},
   "outputs": [],
   "source": []
  },
  {
   "cell_type": "markdown",
   "id": "838cdd5f-908b-4a66-be40-5d47599557d4",
   "metadata": {},
   "source": [
    "## OOP in Python"
   ]
  },
  {
   "cell_type": "markdown",
   "id": "e7a227cc-34d8-42e9-b059-6701e224e07c",
   "metadata": {},
   "source": [
    "#### Class: Class is a blueprint for creating objects"
   ]
  },
  {
   "cell_type": "code",
   "execution_count": 10,
   "id": "eac9fbdf-61e9-49e3-9d79-c0c18d0efd15",
   "metadata": {},
   "outputs": [],
   "source": [
    "class Student: \n",
    "    dept = \"CSE\"\n",
    "    "
   ]
  },
  {
   "cell_type": "code",
   "execution_count": 12,
   "id": "c0078cdf-be09-4fcc-b339-bba117d51278",
   "metadata": {},
   "outputs": [],
   "source": [
    "stu1 = Student()"
   ]
  },
  {
   "cell_type": "code",
   "execution_count": 14,
   "id": "6f88079c-bc86-4539-95b5-991c10d805af",
   "metadata": {},
   "outputs": [
    {
     "name": "stdout",
     "output_type": "stream",
     "text": [
      "<__main__.Student object at 0x00000172E46D2E40>\n"
     ]
    }
   ],
   "source": [
    "print(stu1)"
   ]
  },
  {
   "cell_type": "code",
   "execution_count": 16,
   "id": "22d329be-64c3-4983-9445-19a338596f8f",
   "metadata": {},
   "outputs": [
    {
     "name": "stdout",
     "output_type": "stream",
     "text": [
      "CSE\n"
     ]
    }
   ],
   "source": [
    "print(stu1.dept)"
   ]
  },
  {
   "cell_type": "code",
   "execution_count": null,
   "id": "1cc2e7ce-71a4-4d94-afc3-0a23ce80a34b",
   "metadata": {},
   "outputs": [],
   "source": []
  },
  {
   "cell_type": "markdown",
   "id": "4b59e002-14b3-4513-93e9-5808b6fa3d5f",
   "metadata": {},
   "source": [
    "#### Constructor: All classes have a function called_init(), which is always executed when the object is being initiated."
   ]
  },
  {
   "cell_type": "code",
   "execution_count": 25,
   "id": "d4c58c3a-5f6c-4dd5-99d3-0cc05ea84aa1",
   "metadata": {},
   "outputs": [],
   "source": [
    "#Default Constructor\n",
    "class Student: \n",
    "    name = \"Shajib\"\n",
    "    def __init__(self): \n",
    "        print(\"Adding new student in Database...\")"
   ]
  },
  {
   "cell_type": "code",
   "execution_count": 27,
   "id": "5abbde34-297b-4380-8e5b-88559c98648a",
   "metadata": {},
   "outputs": [
    {
     "name": "stdout",
     "output_type": "stream",
     "text": [
      "Adding new student in Database...\n"
     ]
    }
   ],
   "source": [
    "s1 = Student()"
   ]
  },
  {
   "cell_type": "code",
   "execution_count": null,
   "id": "05b219ec-59fa-468a-928c-48f5d6037be8",
   "metadata": {},
   "outputs": [],
   "source": []
  },
  {
   "cell_type": "markdown",
   "id": "1767e0c8-8c37-4dd8-802a-0535db1e28c4",
   "metadata": {},
   "source": [
    "The self parameter is a reference to the current instance of the class, and is used to access variables that belongs to the class"
   ]
  },
  {
   "cell_type": "code",
   "execution_count": 38,
   "id": "3d2fd3a7-d0b8-45e4-9fa5-8be0c15ead52",
   "metadata": {},
   "outputs": [],
   "source": [
    "#Parameterized Constructor\n",
    "class Student: \n",
    "    def __init__(self, fullname, marks): \n",
    "        self.name = fullname\n",
    "        self.marks = marks\n",
    "        print(\"Adding new student in the Database...\")"
   ]
  },
  {
   "cell_type": "code",
   "execution_count": 40,
   "id": "71d95161-9f4d-4b04-bbe8-aece24c0544d",
   "metadata": {},
   "outputs": [
    {
     "name": "stdout",
     "output_type": "stream",
     "text": [
      "Adding new student in the Database...\n"
     ]
    }
   ],
   "source": [
    "s1 = Student(\"Md. Shajib\", 87.50)"
   ]
  },
  {
   "cell_type": "code",
   "execution_count": 46,
   "id": "e17ce807-bec9-4b1c-af96-0c2c8baf0474",
   "metadata": {},
   "outputs": [
    {
     "name": "stdout",
     "output_type": "stream",
     "text": [
      "Md. Shajib 87.5\n"
     ]
    }
   ],
   "source": [
    "print(s1.name, s1.marks)"
   ]
  },
  {
   "cell_type": "code",
   "execution_count": null,
   "id": "2cc75b4a-6b6e-43d8-973d-936deb549ed6",
   "metadata": {},
   "outputs": [],
   "source": []
  },
  {
   "cell_type": "code",
   "execution_count": null,
   "id": "f7986c59-afcf-4f51-aaf4-7d5de3738cdf",
   "metadata": {},
   "outputs": [],
   "source": []
  },
  {
   "cell_type": "markdown",
   "id": "c22960b8-f78b-443a-9e25-1733f109c513",
   "metadata": {},
   "source": [
    "#### Class & Instance(obj) Attributes"
   ]
  },
  {
   "cell_type": "code",
   "execution_count": 86,
   "id": "6eac77f0-af90-4185-8721-b635002e950f",
   "metadata": {},
   "outputs": [],
   "source": [
    "class Student: \n",
    "    varsity_name = \"MBSTU\" #class attribute\n",
    "    name = \"anonymous\" #class attribute\n",
    "    def __init__(self, name, marks): \n",
    "        self.name = name # object attribute  (obj attribute > class attribute)\n",
    "        self.marks = marks \n",
    "        print(\"Adding new student in Database...\")"
   ]
  },
  {
   "cell_type": "code",
   "execution_count": 88,
   "id": "eaefae3e-7bca-4861-b526-53c36fc2eb5c",
   "metadata": {},
   "outputs": [
    {
     "name": "stdout",
     "output_type": "stream",
     "text": [
      "Adding new student in Database...\n"
     ]
    }
   ],
   "source": [
    "s1 = Student(\"Shajib\", 95)"
   ]
  },
  {
   "cell_type": "code",
   "execution_count": 90,
   "id": "0ccfcebc-b422-4862-a40c-5ff4b5822de9",
   "metadata": {},
   "outputs": [
    {
     "name": "stdout",
     "output_type": "stream",
     "text": [
      "Shajib 95 MBSTU MBSTU\n"
     ]
    }
   ],
   "source": [
    "print(s1.name, s1.marks, s1.varsity_name, Student.varsity_name)"
   ]
  },
  {
   "cell_type": "code",
   "execution_count": null,
   "id": "912c80d3-6633-43d4-8ec9-1f2926ab6794",
   "metadata": {},
   "outputs": [],
   "source": []
  },
  {
   "cell_type": "code",
   "execution_count": null,
   "id": "dad68812-4feb-4276-bfe4-a523df64affa",
   "metadata": {},
   "outputs": [],
   "source": []
  },
  {
   "cell_type": "markdown",
   "id": "63bdebf0-6977-41ec-b0e9-f9dbb0669553",
   "metadata": {},
   "source": [
    "#### Methods"
   ]
  },
  {
   "cell_type": "markdown",
   "id": "02addfd9-0e26-4c7c-9ef9-d2e5c7b90e50",
   "metadata": {},
   "source": [
    "##### Methods are functions that belong to objects"
   ]
  },
  {
   "cell_type": "code",
   "execution_count": 96,
   "id": "f42c5351-0454-48f5-961d-172d80a53766",
   "metadata": {},
   "outputs": [],
   "source": [
    "class Student: \n",
    "    varsity_name = \"MBSTU\"\n",
    "\n",
    "    def __init__(self, name, marks): \n",
    "        self.name = name \n",
    "        self.marks = marks\n",
    "\n",
    "    def welcome(self): \n",
    "        print(\"Welcome \", self.name)\n",
    "\n",
    "    def get_marks(self):\n",
    "        return self.marks\n",
    "        "
   ]
  },
  {
   "cell_type": "code",
   "execution_count": 98,
   "id": "1357096a-5772-4049-bee3-e6b9d897a90f",
   "metadata": {},
   "outputs": [],
   "source": [
    "s1 = Student(\"Md. Shajib\", 50)"
   ]
  },
  {
   "cell_type": "code",
   "execution_count": 100,
   "id": "4228f4e7-b801-4c86-890a-bc8b0d5d579b",
   "metadata": {},
   "outputs": [
    {
     "name": "stdout",
     "output_type": "stream",
     "text": [
      "Welcome  Md. Shajib\n"
     ]
    }
   ],
   "source": [
    "s1.welcome()"
   ]
  },
  {
   "cell_type": "code",
   "execution_count": 102,
   "id": "84eda337-ed1b-470f-a044-060586553541",
   "metadata": {},
   "outputs": [
    {
     "name": "stdout",
     "output_type": "stream",
     "text": [
      "50\n"
     ]
    }
   ],
   "source": [
    "print(s1.get_marks())"
   ]
  },
  {
   "cell_type": "code",
   "execution_count": null,
   "id": "f8d55084-fdae-4460-ab63-c2e258fbe2e4",
   "metadata": {},
   "outputs": [],
   "source": []
  },
  {
   "cell_type": "code",
   "execution_count": 121,
   "id": "dae3877d-9aeb-4cbc-919d-2adb2ad9dabc",
   "metadata": {},
   "outputs": [],
   "source": [
    "class Student: \n",
    "    def __init__(self, name, marks): \n",
    "        self.name = name \n",
    "        self.marks = marks\n",
    "\n",
    "    def get_avg(self): \n",
    "        sum = 0 \n",
    "        for val in self.marks: \n",
    "            sum+=val \n",
    "            \n",
    "        print(\"Hi\", self.name, \"your avg score is:\", sum/3)       \n",
    "        "
   ]
  },
  {
   "cell_type": "code",
   "execution_count": 123,
   "id": "f5dc75e1-df7e-4141-bc36-1aa7753af866",
   "metadata": {},
   "outputs": [],
   "source": [
    "s1 = Student(\"Tony Stark\", [99, 98, 100])"
   ]
  },
  {
   "cell_type": "code",
   "execution_count": 125,
   "id": "ac3ae0fb-5d8b-4d8a-958b-7ab6d4f62ce8",
   "metadata": {},
   "outputs": [
    {
     "name": "stdout",
     "output_type": "stream",
     "text": [
      "Hi Tony Stark your avg score is: 99.0\n"
     ]
    }
   ],
   "source": [
    "s1.get_avg()"
   ]
  },
  {
   "cell_type": "code",
   "execution_count": 127,
   "id": "abba83f3-f65c-4b34-aa39-1bd32a9277a9",
   "metadata": {},
   "outputs": [],
   "source": [
    "s1.name = \"Ironman\""
   ]
  },
  {
   "cell_type": "code",
   "execution_count": 129,
   "id": "e3eb55d3-d210-48cd-93c1-feafee8044d6",
   "metadata": {},
   "outputs": [
    {
     "name": "stdout",
     "output_type": "stream",
     "text": [
      "Hi Ironman your avg score is: 99.0\n"
     ]
    }
   ],
   "source": [
    "s1.get_avg()"
   ]
  },
  {
   "cell_type": "code",
   "execution_count": null,
   "id": "c7a85898-b53f-461d-8a68-851d1d1b443e",
   "metadata": {},
   "outputs": [],
   "source": []
  },
  {
   "cell_type": "code",
   "execution_count": null,
   "id": "9b727dc3-4989-42f2-9186-6f0e3468b5df",
   "metadata": {},
   "outputs": [],
   "source": []
  },
  {
   "cell_type": "markdown",
   "id": "6ee7b006-ca43-4892-884a-a11c429bf839",
   "metadata": {},
   "source": [
    "#### Static Methods"
   ]
  },
  {
   "cell_type": "markdown",
   "id": "e39c8797-948c-437d-a3d6-41ebd8136c41",
   "metadata": {},
   "source": [
    "##### Methods that don't use the self parameter(wort at class level)"
   ]
  },
  {
   "cell_type": "code",
   "execution_count": 135,
   "id": "ddb1f394-c98b-46bf-9b48-b54f866f22a3",
   "metadata": {},
   "outputs": [],
   "source": [
    "class Student: \n",
    "    @staticmethod   #Decorator\n",
    "    def hello(): \n",
    "        print(\"Hello from Student Class\")"
   ]
  },
  {
   "cell_type": "code",
   "execution_count": 137,
   "id": "8ff3876f-4048-4fd1-aa5b-0160a8f69ffc",
   "metadata": {},
   "outputs": [
    {
     "name": "stdout",
     "output_type": "stream",
     "text": [
      "Hello from Student Class\n"
     ]
    }
   ],
   "source": [
    "Student.hello()"
   ]
  },
  {
   "cell_type": "code",
   "execution_count": null,
   "id": "1b69e5cd-920c-4a00-9330-26e9f5d527b1",
   "metadata": {},
   "outputs": [],
   "source": []
  },
  {
   "cell_type": "markdown",
   "id": "3f01eaab-8571-44f4-b498-458d91c42b15",
   "metadata": {},
   "source": [
    "#### Decorators allow us to wrap another function in order to extend the behaviour of the wrapped function, without permanently modifying it."
   ]
  },
  {
   "cell_type": "code",
   "execution_count": null,
   "id": "eef47314-47a7-435e-9f59-7446d9c037e2",
   "metadata": {},
   "outputs": [],
   "source": []
  },
  {
   "cell_type": "code",
   "execution_count": null,
   "id": "97cab55e-16ac-47ba-969f-928b91728d67",
   "metadata": {},
   "outputs": [],
   "source": []
  },
  {
   "cell_type": "markdown",
   "id": "f18ca1cd-ea42-41b6-959a-bd3742d38b74",
   "metadata": {},
   "source": [
    "## OOP = Abstraction, Encapsulation, Inheritance, Polymorphism"
   ]
  },
  {
   "cell_type": "markdown",
   "id": "f01fa35a-67ac-4864-890d-6ff1ce402eee",
   "metadata": {},
   "source": [
    "#### Abstraction : Hiding the details of a class and only showing the essential features to the user."
   ]
  },
  {
   "cell_type": "markdown",
   "id": "8b2297c3-5fc8-40a9-b39f-8b238a866680",
   "metadata": {},
   "source": [
    "#### Encapsulation: Wrapping data and functions into a single unit(object)"
   ]
  },
  {
   "cell_type": "code",
   "execution_count": 153,
   "id": "20899cc5-3329-4c8a-9364-2d2ad19c8ad4",
   "metadata": {},
   "outputs": [],
   "source": [
    "#Abstraction Ex. \n",
    "class Car: \n",
    "    def __init__(self): \n",
    "        self.acc = False \n",
    "        self.brk = False\n",
    "        self.clutch = False\n",
    "\n",
    "    def start(self): \n",
    "        self.clutch = True #Abstraction from user\n",
    "        self.acc = True ##Abstraction form user\n",
    "        print(\"Car started..\")"
   ]
  },
  {
   "cell_type": "code",
   "execution_count": 155,
   "id": "59e9631f-9317-4e3c-9553-ac17b5225c4d",
   "metadata": {},
   "outputs": [],
   "source": [
    "c1 = Car()"
   ]
  },
  {
   "cell_type": "code",
   "execution_count": 157,
   "id": "9005abd9-4f4a-4436-82ce-efa6fff7c712",
   "metadata": {},
   "outputs": [
    {
     "name": "stdout",
     "output_type": "stream",
     "text": [
      "Car started..\n"
     ]
    }
   ],
   "source": [
    "c1.start()"
   ]
  },
  {
   "cell_type": "code",
   "execution_count": null,
   "id": "11a80186-9af7-4f35-a574-812f11e96989",
   "metadata": {},
   "outputs": [],
   "source": []
  },
  {
   "cell_type": "code",
   "execution_count": null,
   "id": "1be508b4-4d4c-425c-9948-3b0eeac83823",
   "metadata": {},
   "outputs": [],
   "source": []
  },
  {
   "cell_type": "markdown",
   "id": "ad9be399-e88f-4fa5-a6de-43c64213e562",
   "metadata": {},
   "source": [
    "#### del Keyword"
   ]
  },
  {
   "cell_type": "markdown",
   "id": "17d832a2-4bb9-48f2-8b60-e3f3a3b31a66",
   "metadata": {},
   "source": [
    "##### Used to delete object properties or object itself"
   ]
  },
  {
   "cell_type": "code",
   "execution_count": 3,
   "id": "e9011e64-37ae-4e9e-b12c-f58460cb0576",
   "metadata": {},
   "outputs": [],
   "source": [
    "class Student: \n",
    "    def __init__(self, name):\n",
    "        self.name = name\n",
    "    "
   ]
  },
  {
   "cell_type": "code",
   "execution_count": 5,
   "id": "c7dd4acf-6fee-4837-8235-e2d4230ee08c",
   "metadata": {},
   "outputs": [],
   "source": [
    "s1 = Student(\"Shajib\")"
   ]
  },
  {
   "cell_type": "code",
   "execution_count": 7,
   "id": "10fb2c7e-b6e1-44dc-9709-786ed0120cd1",
   "metadata": {},
   "outputs": [
    {
     "name": "stdout",
     "output_type": "stream",
     "text": [
      "Shajib\n"
     ]
    }
   ],
   "source": [
    "print(s1.name)"
   ]
  },
  {
   "cell_type": "code",
   "execution_count": 9,
   "id": "99fe7755-c6df-44f2-8f17-6f00bd714607",
   "metadata": {},
   "outputs": [],
   "source": [
    "del s1.name"
   ]
  },
  {
   "cell_type": "code",
   "execution_count": 11,
   "id": "4b593560-a013-40a9-bad8-ed9cf72c4a95",
   "metadata": {},
   "outputs": [
    {
     "ename": "AttributeError",
     "evalue": "'Student' object has no attribute 'name'",
     "output_type": "error",
     "traceback": [
      "\u001b[1;31m---------------------------------------------------------------------------\u001b[0m",
      "\u001b[1;31mAttributeError\u001b[0m                            Traceback (most recent call last)",
      "Cell \u001b[1;32mIn[11], line 1\u001b[0m\n\u001b[1;32m----> 1\u001b[0m \u001b[38;5;28mprint\u001b[39m(s1\u001b[38;5;241m.\u001b[39mname)\n",
      "\u001b[1;31mAttributeError\u001b[0m: 'Student' object has no attribute 'name'"
     ]
    }
   ],
   "source": [
    "print(s1.name)"
   ]
  },
  {
   "cell_type": "code",
   "execution_count": null,
   "id": "70206b90-275c-4eff-b30c-8ed3e588563a",
   "metadata": {},
   "outputs": [],
   "source": []
  },
  {
   "cell_type": "code",
   "execution_count": null,
   "id": "ea6ce81a-b10d-4a8d-8dae-2de8953bc4ff",
   "metadata": {},
   "outputs": [],
   "source": []
  },
  {
   "cell_type": "markdown",
   "id": "21167616-e4a2-44d7-ad51-ab9d376f582e",
   "metadata": {},
   "source": [
    "#### Private(like) attributes & methods"
   ]
  },
  {
   "cell_type": "markdown",
   "id": "00d33715-f56f-4126-ad01-2a5a1325feea",
   "metadata": {},
   "source": [
    "#### Conceptual Implementations in Python"
   ]
  },
  {
   "cell_type": "markdown",
   "id": "79a72306-26ee-4c20-a21a-98fff6ac44c0",
   "metadata": {},
   "source": [
    "#### Private attributes & methods are meant to be used only within the class and are not accessible from outside the class"
   ]
  },
  {
   "cell_type": "code",
   "execution_count": null,
   "id": "f20d7247-0dc3-44bc-aba2-03dce9f41761",
   "metadata": {},
   "outputs": [],
   "source": []
  },
  {
   "cell_type": "code",
   "execution_count": 19,
   "id": "f74348c2-5114-4832-96e5-883c1d73fce8",
   "metadata": {},
   "outputs": [],
   "source": [
    "#Ex. \n",
    "class Account: \n",
    "    def __init__(self, accNo, accPass): \n",
    "        self.accNo = accNo\n",
    "        self.__accPass = accPass  ## __ indicates that is a private attributes\n",
    "\n",
    "    def reset_pass(self):\n",
    "        print(self.__accPass)"
   ]
  },
  {
   "cell_type": "code",
   "execution_count": 21,
   "id": "42b1e4c7-0a5b-4319-aa50-ed24d7fcf963",
   "metadata": {},
   "outputs": [],
   "source": [
    "acc1 = Account(\"12345\", \"abcde\")"
   ]
  },
  {
   "cell_type": "code",
   "execution_count": 31,
   "id": "9fd9d26a-4544-45c6-9289-d1cc41f79269",
   "metadata": {},
   "outputs": [
    {
     "ename": "AttributeError",
     "evalue": "'Account' object has no attribute 'accPass'",
     "output_type": "error",
     "traceback": [
      "\u001b[1;31m---------------------------------------------------------------------------\u001b[0m",
      "\u001b[1;31mAttributeError\u001b[0m                            Traceback (most recent call last)",
      "Cell \u001b[1;32mIn[31], line 1\u001b[0m\n\u001b[1;32m----> 1\u001b[0m \u001b[38;5;28mprint\u001b[39m(acc1\u001b[38;5;241m.\u001b[39maccPass)\n",
      "\u001b[1;31mAttributeError\u001b[0m: 'Account' object has no attribute 'accPass'"
     ]
    }
   ],
   "source": [
    "print(acc1.accPass) #Not directly accessible"
   ]
  },
  {
   "cell_type": "code",
   "execution_count": 33,
   "id": "6bc19562-d4cb-4e9a-ab7f-c88825f31469",
   "metadata": {},
   "outputs": [
    {
     "name": "stdout",
     "output_type": "stream",
     "text": [
      "abcde\n"
     ]
    }
   ],
   "source": [
    "acc1.reset_pass()"
   ]
  },
  {
   "cell_type": "code",
   "execution_count": null,
   "id": "19a8c5d6-7302-436d-ba4b-3ec7e8b5f8ed",
   "metadata": {},
   "outputs": [],
   "source": []
  },
  {
   "cell_type": "code",
   "execution_count": 79,
   "id": "901165cf-113f-40de-831c-841eb35229a2",
   "metadata": {},
   "outputs": [],
   "source": [
    "class Person: \n",
    "    __name = \"Anonymous\"\n",
    "\n",
    "    def __hello(self): \n",
    "        print(\"Hello, person\")\n",
    "\n",
    "    def welcome(self): \n",
    "       self.__hello()"
   ]
  },
  {
   "cell_type": "code",
   "execution_count": 81,
   "id": "084f81a7-a718-4176-9c7a-f83682d40e4d",
   "metadata": {},
   "outputs": [],
   "source": [
    "p1 = Person()"
   ]
  },
  {
   "cell_type": "code",
   "execution_count": 83,
   "id": "e664eb39-0550-4134-ad85-601a0bbe5ded",
   "metadata": {},
   "outputs": [
    {
     "ename": "AttributeError",
     "evalue": "'Person' object has no attribute '__hello'",
     "output_type": "error",
     "traceback": [
      "\u001b[1;31m---------------------------------------------------------------------------\u001b[0m",
      "\u001b[1;31mAttributeError\u001b[0m                            Traceback (most recent call last)",
      "Cell \u001b[1;32mIn[83], line 1\u001b[0m\n\u001b[1;32m----> 1\u001b[0m \u001b[38;5;28mprint\u001b[39m(p1\u001b[38;5;241m.\u001b[39m__hello())\n",
      "\u001b[1;31mAttributeError\u001b[0m: 'Person' object has no attribute '__hello'"
     ]
    }
   ],
   "source": [
    "print(p1.__hello())"
   ]
  },
  {
   "cell_type": "code",
   "execution_count": 89,
   "id": "862045f6-5656-428f-a2d9-2ca19c5b6c3f",
   "metadata": {},
   "outputs": [
    {
     "name": "stdout",
     "output_type": "stream",
     "text": [
      "Hello, person\n"
     ]
    }
   ],
   "source": [
    "p1.welcome()"
   ]
  },
  {
   "cell_type": "code",
   "execution_count": null,
   "id": "06eae0a0-0226-4d3d-8364-2085a79fc324",
   "metadata": {},
   "outputs": [],
   "source": []
  },
  {
   "cell_type": "code",
   "execution_count": null,
   "id": "dc049c40-22c6-4648-83c6-cb4ab1e956be",
   "metadata": {},
   "outputs": [],
   "source": []
  },
  {
   "cell_type": "code",
   "execution_count": null,
   "id": "c2bbafba-3e44-4716-9b4b-4e85dd73deb8",
   "metadata": {},
   "outputs": [],
   "source": []
  },
  {
   "cell_type": "markdown",
   "id": "510421bc-8ef7-490a-9f15-dea99426dc1b",
   "metadata": {},
   "source": [
    "### Inheritance"
   ]
  },
  {
   "cell_type": "markdown",
   "id": "fcf75792-4a34-4a83-a04d-31e09d1b614c",
   "metadata": {},
   "source": [
    "#### When one class(child/derived) derives the properties & methods of another class(parent/base)"
   ]
  },
  {
   "cell_type": "code",
   "execution_count": 112,
   "id": "9a4f5b51-3779-4990-968f-54d0a5598432",
   "metadata": {},
   "outputs": [],
   "source": [
    "class Car: \n",
    "    color = \"black\"\n",
    "    @staticmethod\n",
    "    def start(): \n",
    "        print(\"Car started..\")\n",
    "\n",
    "    @staticmethod\n",
    "    def stop(): \n",
    "        print(\"Car stopped.\")"
   ]
  },
  {
   "cell_type": "code",
   "execution_count": 114,
   "id": "13229d65-13b9-403f-8cfd-81cb6bbf2f92",
   "metadata": {},
   "outputs": [],
   "source": [
    "class ToyotaCar(Car): #ToyotaCar derives the properties & method of Parent Class(Car) \n",
    "    def __init__(self, name): \n",
    "        self.name = name\n",
    "    "
   ]
  },
  {
   "cell_type": "code",
   "execution_count": 116,
   "id": "260e403d-678a-42ea-90a6-dca577f63ee4",
   "metadata": {},
   "outputs": [],
   "source": [
    "car1 = ToyotaCar(\"Fortuner\")\n",
    "car2 = ToyotaCar(\"Prius\")"
   ]
  },
  {
   "cell_type": "code",
   "execution_count": 118,
   "id": "0f588544-9acf-4149-b90d-554fee52cec8",
   "metadata": {},
   "outputs": [
    {
     "name": "stdout",
     "output_type": "stream",
     "text": [
      "Car started..\n"
     ]
    }
   ],
   "source": [
    "car1.start()"
   ]
  },
  {
   "cell_type": "code",
   "execution_count": 120,
   "id": "77f93d25-4fdc-4ae2-b504-8290f303cd63",
   "metadata": {},
   "outputs": [
    {
     "name": "stdout",
     "output_type": "stream",
     "text": [
      "Car stopped.\n"
     ]
    }
   ],
   "source": [
    "car1.stop()"
   ]
  },
  {
   "cell_type": "code",
   "execution_count": 124,
   "id": "879d9814-a04a-41fa-9011-56e3c25b6f80",
   "metadata": {},
   "outputs": [
    {
     "name": "stdout",
     "output_type": "stream",
     "text": [
      "black\n"
     ]
    }
   ],
   "source": [
    "print(car1.color)"
   ]
  },
  {
   "cell_type": "code",
   "execution_count": null,
   "id": "6aee5365-12ed-41ce-a53c-564c00b5caba",
   "metadata": {},
   "outputs": [],
   "source": []
  },
  {
   "cell_type": "markdown",
   "id": "96dde988-2d3c-4466-b295-ef3af9f55cda",
   "metadata": {},
   "source": [
    "### Inheritance Types"
   ]
  },
  {
   "cell_type": "markdown",
   "id": "70de4e59-e309-4b5f-b851-31f9eca4a6c1",
   "metadata": {},
   "source": [
    "- Single Inheritance"
   ]
  },
  {
   "cell_type": "markdown",
   "id": "2c350e64-9971-4bb5-9dbc-1ae54cf31405",
   "metadata": {},
   "source": [
    "- Multi-level Inheritance"
   ]
  },
  {
   "cell_type": "markdown",
   "id": "a70c513e-6cc0-4bc0-a842-a10ff1454195",
   "metadata": {},
   "source": [
    "- Multiple Inheritance"
   ]
  },
  {
   "cell_type": "code",
   "execution_count": null,
   "id": "8cec3af4-8e5c-445d-93bb-3be11b53e365",
   "metadata": {},
   "outputs": [],
   "source": []
  },
  {
   "cell_type": "code",
   "execution_count": null,
   "id": "15a70af1-b215-4a50-8c72-7fb2452f915b",
   "metadata": {},
   "outputs": [],
   "source": []
  },
  {
   "cell_type": "code",
   "execution_count": 133,
   "id": "d95eee99-192b-44a4-8a60-410088f71dc7",
   "metadata": {},
   "outputs": [],
   "source": [
    "#Multi-level Inheritance \n",
    "class Car: \n",
    "    @staticmethod\n",
    "    def start(): \n",
    "        print(\"Car started..\")\n",
    "\n",
    "    @staticmethod\n",
    "    def stop(): \n",
    "        print(\"Car stopped.\")"
   ]
  },
  {
   "cell_type": "code",
   "execution_count": 135,
   "id": "1813a17f-57d8-434a-8e7f-33720fd9b8e9",
   "metadata": {},
   "outputs": [],
   "source": [
    "class ToyotaCar(Car):\n",
    "    def __init__(self, brand):\n",
    "        self.brand = brand\n",
    "        "
   ]
  },
  {
   "cell_type": "code",
   "execution_count": 139,
   "id": "7ea56611-1894-49d6-a4c7-d556b99dab48",
   "metadata": {},
   "outputs": [],
   "source": [
    "class Fortuner(ToyotaCar): #Fortuner derived from ToyotaCar, ToyotaCar derived from Car \n",
    "    def __init__(self, type): \n",
    "        self.type = type "
   ]
  },
  {
   "cell_type": "code",
   "execution_count": 141,
   "id": "5c67fc1b-df5a-4f21-b73c-1d7550036057",
   "metadata": {},
   "outputs": [],
   "source": [
    "car1 = Fortuner(\"Diesel\")"
   ]
  },
  {
   "cell_type": "code",
   "execution_count": 143,
   "id": "686623a4-ee96-4521-9d85-8e6e74135e03",
   "metadata": {},
   "outputs": [
    {
     "name": "stdout",
     "output_type": "stream",
     "text": [
      "Car started..\n"
     ]
    }
   ],
   "source": [
    "car1.start()"
   ]
  },
  {
   "cell_type": "code",
   "execution_count": null,
   "id": "5bb298fb-09b3-428f-82ae-9c29ae725c2c",
   "metadata": {},
   "outputs": [],
   "source": []
  },
  {
   "cell_type": "code",
   "execution_count": null,
   "id": "f848550c-26f7-4359-bcb2-bffbb65d9df8",
   "metadata": {},
   "outputs": [],
   "source": []
  },
  {
   "cell_type": "code",
   "execution_count": 147,
   "id": "fe23f17e-5f72-46eb-9be9-d4fc4202b20d",
   "metadata": {},
   "outputs": [],
   "source": [
    "#Multiple Inheritance  \n",
    "\n",
    "class A:\n",
    "    varA = \"welcome to class A\" \n",
    "class B: \n",
    "    varB = \"welcome to class B\" \n",
    "class C(A,B):   \n",
    "    varC = \"welcome to class C\""
   ]
  },
  {
   "cell_type": "code",
   "execution_count": 149,
   "id": "0d56b72e-7851-4ee2-b7f8-de6eacc1259e",
   "metadata": {},
   "outputs": [],
   "source": [
    "c1 = C()"
   ]
  },
  {
   "cell_type": "code",
   "execution_count": 151,
   "id": "1ab4ee53-e017-4fc2-9070-d37092198d36",
   "metadata": {},
   "outputs": [
    {
     "name": "stdout",
     "output_type": "stream",
     "text": [
      "welcome to class C\n",
      "welcome to class B\n",
      "welcome to class A\n"
     ]
    }
   ],
   "source": [
    "print(c1.varC)\n",
    "print(c1.varB)\n",
    "print(c1.varA)"
   ]
  },
  {
   "cell_type": "code",
   "execution_count": null,
   "id": "45fcd449-b27b-4380-92cf-bb5af1f3b54e",
   "metadata": {},
   "outputs": [],
   "source": []
  },
  {
   "cell_type": "code",
   "execution_count": null,
   "id": "2576f1f5-cdf0-4188-8f6d-e9679781fccb",
   "metadata": {},
   "outputs": [],
   "source": []
  },
  {
   "cell_type": "markdown",
   "id": "c2b24abd-00b1-4116-9c82-c2b95a5e6f16",
   "metadata": {},
   "source": [
    "### Super Method"
   ]
  },
  {
   "cell_type": "markdown",
   "id": "3caba319-12a6-4d3b-89d1-2a1df07f2ed1",
   "metadata": {},
   "source": [
    "#### super() method is used to access methods of the parent class"
   ]
  },
  {
   "cell_type": "code",
   "execution_count": 165,
   "id": "4375bb0d-0e78-45d0-bd55-000fb9fc8002",
   "metadata": {},
   "outputs": [],
   "source": [
    "class Car: \n",
    "    def __init__(self, type): \n",
    "        self.type = type \n",
    "\n",
    "    @staticmethod\n",
    "    def start(): \n",
    "        print(\"Car started...\") \n",
    "\n",
    "    @staticmethod \n",
    "    def stop(): \n",
    "        print(\"Car stopped.\") \n",
    "\n"
   ]
  },
  {
   "cell_type": "code",
   "execution_count": 179,
   "id": "cceacb92-97b1-481c-9c9c-cd9c178c67c4",
   "metadata": {},
   "outputs": [],
   "source": [
    "class ToyotaCar(Car):\n",
    "    def __init__(self, name, type):\n",
    "        super().__init__(type)\n",
    "        self.name = name\n",
    "        #super().start()"
   ]
  },
  {
   "cell_type": "code",
   "execution_count": 181,
   "id": "b0cc0249-fc45-4539-9ee7-c4da2dae6b31",
   "metadata": {},
   "outputs": [],
   "source": [
    "car1 = ToyotaCar(\"Prius\", \"Electric\")"
   ]
  },
  {
   "cell_type": "code",
   "execution_count": 183,
   "id": "efef72ca-fd69-4e4e-a592-72c04737dfc7",
   "metadata": {},
   "outputs": [
    {
     "name": "stdout",
     "output_type": "stream",
     "text": [
      "Electric\n"
     ]
    }
   ],
   "source": [
    "print(car1.type)"
   ]
  },
  {
   "cell_type": "code",
   "execution_count": null,
   "id": "f88c791d-c856-4d6e-8686-c5ab101f5c18",
   "metadata": {},
   "outputs": [],
   "source": []
  },
  {
   "cell_type": "code",
   "execution_count": null,
   "id": "55485790-19d4-4e1a-908f-e79e2f9eea17",
   "metadata": {},
   "outputs": [],
   "source": []
  },
  {
   "cell_type": "code",
   "execution_count": null,
   "id": "7698c065-4308-4634-9667-bb5160c4e7e1",
   "metadata": {},
   "outputs": [],
   "source": []
  },
  {
   "cell_type": "markdown",
   "id": "c699dba9-7536-4b38-ab4f-bc6c048f754b",
   "metadata": {},
   "source": [
    "### Class Method"
   ]
  },
  {
   "cell_type": "markdown",
   "id": "c8b75483-fca1-44fb-a1d7-5fe13921486c",
   "metadata": {},
   "source": [
    "#### A class method is bound to the class & receives the class as an implicit first argument"
   ]
  },
  {
   "cell_type": "code",
   "execution_count": 6,
   "id": "fe002827-c818-45f2-bb33-9eb6ba6568b6",
   "metadata": {},
   "outputs": [],
   "source": [
    "class Person: \n",
    "    name = \"anonymous\"\n",
    "\n",
    "    @classmethod\n",
    "    def changeName(cls, name): \n",
    "        cls.name = name "
   ]
  },
  {
   "cell_type": "code",
   "execution_count": 8,
   "id": "e7aa2c23-c5fb-409c-9e0c-7f7b6ec7d935",
   "metadata": {},
   "outputs": [],
   "source": [
    "p1 = Person()\n",
    "p1.changeName(\"Shajib\")"
   ]
  },
  {
   "cell_type": "code",
   "execution_count": 10,
   "id": "eeb83046-b5e0-406e-ab8f-72c6bd19c682",
   "metadata": {},
   "outputs": [
    {
     "name": "stdout",
     "output_type": "stream",
     "text": [
      "Shajib\n",
      "Shajib\n"
     ]
    }
   ],
   "source": [
    "print(p1.name)\n",
    "print(Person.name)"
   ]
  },
  {
   "cell_type": "code",
   "execution_count": null,
   "id": "8f8ca0a3-9fc0-4a1d-bcad-02da1401b817",
   "metadata": {},
   "outputs": [],
   "source": []
  },
  {
   "cell_type": "code",
   "execution_count": null,
   "id": "490de713-9064-461f-99e3-5042dd3df105",
   "metadata": {},
   "outputs": [],
   "source": []
  },
  {
   "cell_type": "markdown",
   "id": "8cd590c4-877b-4a3a-a4ee-3a736df40f46",
   "metadata": {},
   "source": [
    "### Property decorator"
   ]
  },
  {
   "cell_type": "markdown",
   "id": "883baba2-85f2-4162-afb6-1a8d9c697cf1",
   "metadata": {},
   "source": [
    "#### We use @property decorator on any method in the class to use the method as a property"
   ]
  },
  {
   "cell_type": "code",
   "execution_count": 16,
   "id": "12bc501a-49e2-4c0e-9280-5ee8463ccf35",
   "metadata": {},
   "outputs": [],
   "source": [
    "class Student: \n",
    "    def __init__(self, phy, chem, math): \n",
    "        self.phy = phy \n",
    "        self.chem = chem\n",
    "        self.math = math\n",
    "\n",
    "    @property\n",
    "    def percentage(self):\n",
    "        return str((self.phy + self.chem + self.math)/3) + \"%\""
   ]
  },
  {
   "cell_type": "code",
   "execution_count": 18,
   "id": "412a9fe5-85ae-4052-b881-2a0f53724e5c",
   "metadata": {},
   "outputs": [],
   "source": [
    "stu1 = Student(98, 96, 92)"
   ]
  },
  {
   "cell_type": "code",
   "execution_count": 20,
   "id": "7060954d-f801-4809-a258-2f0f342d6a85",
   "metadata": {},
   "outputs": [
    {
     "name": "stdout",
     "output_type": "stream",
     "text": [
      "95.33333333333333%\n"
     ]
    }
   ],
   "source": [
    "print(stu1.percentage)"
   ]
  },
  {
   "cell_type": "code",
   "execution_count": 22,
   "id": "ef233fcb-cea0-46f7-b4b1-91e1fa56ee56",
   "metadata": {},
   "outputs": [],
   "source": [
    "stu1.phy = 89"
   ]
  },
  {
   "cell_type": "code",
   "execution_count": 26,
   "id": "926b260f-addc-4f35-b412-9ebe431aa4d7",
   "metadata": {},
   "outputs": [
    {
     "name": "stdout",
     "output_type": "stream",
     "text": [
      "92.33333333333333%\n"
     ]
    }
   ],
   "source": [
    "print(stu1.percentage) #Automatically change percentage"
   ]
  },
  {
   "cell_type": "code",
   "execution_count": null,
   "id": "844282b2-e74a-46aa-aaec-be6dd432b9b0",
   "metadata": {},
   "outputs": [],
   "source": []
  },
  {
   "cell_type": "code",
   "execution_count": null,
   "id": "2bb04d34-9942-4a32-a6bb-457459e3ccfc",
   "metadata": {},
   "outputs": [],
   "source": []
  },
  {
   "cell_type": "code",
   "execution_count": null,
   "id": "477caab3-87e4-4684-8f3f-6ce436c6d92e",
   "metadata": {},
   "outputs": [],
   "source": []
  },
  {
   "cell_type": "code",
   "execution_count": null,
   "id": "fb64a5ae-496a-451b-93f7-09ce665ccfd3",
   "metadata": {},
   "outputs": [],
   "source": []
  },
  {
   "cell_type": "markdown",
   "id": "0d2602de-a763-4add-aae9-bea6489bbcc4",
   "metadata": {},
   "source": [
    "### Polymorphism"
   ]
  },
  {
   "cell_type": "code",
   "execution_count": null,
   "id": "9b40f1ab-63f6-4286-817e-8b40214c97e4",
   "metadata": {},
   "outputs": [],
   "source": []
  },
  {
   "cell_type": "markdown",
   "id": "c21f2333-30c5-478b-a85c-709fc15e49df",
   "metadata": {},
   "source": [
    "#### Operator Overloading"
   ]
  },
  {
   "cell_type": "markdown",
   "id": "ae4ea1c6-3f11-49ba-8ecd-7d1c33630b49",
   "metadata": {},
   "source": [
    "##### When the same operator is allowed to have different meaning according to the context"
   ]
  },
  {
   "cell_type": "code",
   "execution_count": null,
   "id": "27dac9b8-a906-459a-92e6-4210146539d9",
   "metadata": {},
   "outputs": [],
   "source": []
  },
  {
   "cell_type": "markdown",
   "id": "45c61ac0-4526-4822-9574-e3257c42baa3",
   "metadata": {},
   "source": [
    "#### Operators & Dunder Function"
   ]
  },
  {
   "cell_type": "code",
   "execution_count": 46,
   "id": "e94aaa1c-09b1-49fb-9a5c-d2a5b9fb4d0c",
   "metadata": {},
   "outputs": [],
   "source": [
    "# a + b ====>  a.__add__(b)\n",
    "# a - b ====>  a.__sub__(b) \n",
    "# a * b ====>  a.__mul____(b)\n",
    "# a / b ====>  a.__truediv____(b) \n",
    "# a % b ====>  a.__mod____(b)"
   ]
  },
  {
   "cell_type": "code",
   "execution_count": 50,
   "id": "0395dacb-4bcb-4407-956b-0ea39c26c581",
   "metadata": {},
   "outputs": [],
   "source": [
    "class Complex: \n",
    "    def __init__(self, real, img): \n",
    "        self.real = real \n",
    "        self.img = img \n",
    "    def showNumber(self):\n",
    "        print(self.real,\"+\",self.img,\"i\")\n",
    "\n",
    "    def __add__(self, num2): \n",
    "        newReal = self.real + num2.real\n",
    "        newImg = self.img + num2.img\n",
    "        return Complex(newReal, newImg)\n",
    "\n",
    "    def __sub__(self, num2): \n",
    "        newReal = self.real - num2.real\n",
    "        newImg = self.img - num2.img\n",
    "        return Complex(newReal, newImg)"
   ]
  },
  {
   "cell_type": "code",
   "execution_count": 68,
   "id": "c0349b0a-4ab8-4e1e-8da4-dc9d240d6605",
   "metadata": {},
   "outputs": [],
   "source": [
    "num1 = Complex(1,10)\n",
    "num2 = Complex(4,5)"
   ]
  },
  {
   "cell_type": "code",
   "execution_count": 70,
   "id": "3363f4ff-0eaa-4f07-a631-d8b2571b8c05",
   "metadata": {},
   "outputs": [
    {
     "name": "stdout",
     "output_type": "stream",
     "text": [
      "1 + 10 i\n",
      "4 + 5 i\n",
      "5 + 15 i\n"
     ]
    }
   ],
   "source": [
    "num1.showNumber()\n",
    "num2.showNumber()\n",
    "num3 = num1 + num2 \n",
    "num3.showNumber()"
   ]
  },
  {
   "cell_type": "code",
   "execution_count": 74,
   "id": "d94a32e2-ab4e-4e59-b158-38ec66178e32",
   "metadata": {},
   "outputs": [
    {
     "name": "stdout",
     "output_type": "stream",
     "text": [
      "-3 + 5 i\n"
     ]
    }
   ],
   "source": [
    "num3 = num1 - num2 \n",
    "num3.showNumber()"
   ]
  },
  {
   "cell_type": "code",
   "execution_count": null,
   "id": "43bc0a52-f28b-44db-87ad-1ee6e1817e66",
   "metadata": {},
   "outputs": [],
   "source": []
  },
  {
   "cell_type": "code",
   "execution_count": null,
   "id": "8856670c-f8cc-445c-84b1-758ba0ee6039",
   "metadata": {},
   "outputs": [],
   "source": []
  },
  {
   "cell_type": "markdown",
   "id": "72b714f8-3177-4812-807d-5d9168b67c88",
   "metadata": {},
   "source": [
    "## This is a Note(H2)\n",
    "- This is a bullet point\n",
    "- It is **bold**\n",
    "- It is *italic*\n",
    "- <ins>Underline this</ins>\n",
    "- ~~Strikethrough~~\n",
    "- Equation: #E = mc^2$\n",
    "- link [Facebook](https://www.facebook.com/shajib.hasan.7121614/)"
   ]
  },
  {
   "cell_type": "code",
   "execution_count": null,
   "id": "5f9b61ee-d3cf-4a07-8e63-fa996e73e9c5",
   "metadata": {},
   "outputs": [],
   "source": []
  },
  {
   "cell_type": "markdown",
   "id": "fc99e327-e944-4da0-b312-0f7401d72054",
   "metadata": {},
   "source": [
    "\n",
    "- Fruits  \n",
    "    - Mango\n",
    "    - Banana\n",
    "    - Jackfruit\n",
    "- <span style=\"color:green; font-weight:bold\">Flowers</span> \n",
    "    - Rose\n",
    "    - Lily\n",
    "\n",
    "1. Number\n",
    "   - One\n",
    "   - Two\n",
    "   - Three\n",
    "2. Alphabets\n",
    "   - A\n",
    "   - B\n",
    "   - C\n"
   ]
  },
  {
   "cell_type": "code",
   "execution_count": null,
   "id": "e46d2303-d372-4d61-a0bc-bc5517fee4d5",
   "metadata": {},
   "outputs": [],
   "source": []
  },
  {
   "cell_type": "markdown",
   "id": "5eb4bada-3794-4456-a781-29dc41da9479",
   "metadata": {},
   "source": [
    " 💚Love Emoji<br>\n",
    " 😁Fun Emojii"
   ]
  },
  {
   "cell_type": "code",
   "execution_count": null,
   "id": "160e46a8-cfcf-478c-a9c7-a379fdc8ac09",
   "metadata": {},
   "outputs": [],
   "source": []
  },
  {
   "cell_type": "markdown",
   "id": "bb0d79ea-22e4-4151-b792-f91b2d3bc2ea",
   "metadata": {},
   "source": [
    "# Image"
   ]
  },
  {
   "cell_type": "code",
   "execution_count": null,
   "id": "304dc622-6049-49c3-8611-1f4052c87978",
   "metadata": {},
   "outputs": [],
   "source": []
  },
  {
   "cell_type": "markdown",
   "id": "7d2fbd58-49e1-487d-b6d7-204081032efb",
   "metadata": {},
   "source": [
    "![My pic](backgroundOrg.png)"
   ]
  },
  {
   "cell_type": "code",
   "execution_count": null,
   "id": "6c57e222-13da-4b91-97a9-988e4a5f55b1",
   "metadata": {},
   "outputs": [],
   "source": []
  },
  {
   "cell_type": "markdown",
   "id": "1b25522c-48cb-4794-9f6f-b9f580d2a5d8",
   "metadata": {},
   "source": [
    "<img src='backgroundOrg.png' width=70%>"
   ]
  },
  {
   "cell_type": "code",
   "execution_count": null,
   "id": "e725b487-e69a-4164-8014-d38db1be61fc",
   "metadata": {},
   "outputs": [],
   "source": []
  },
  {
   "cell_type": "code",
   "execution_count": null,
   "id": "a90a1b49-9f3f-4c29-ae80-d533efc9c360",
   "metadata": {},
   "outputs": [],
   "source": []
  },
  {
   "cell_type": "code",
   "execution_count": null,
   "id": "e306d740-c2c3-4886-8f68-2c1194601059",
   "metadata": {},
   "outputs": [],
   "source": []
  },
  {
   "cell_type": "code",
   "execution_count": null,
   "id": "bfa953ca-a595-44d6-b129-ad629bdf0d23",
   "metadata": {},
   "outputs": [],
   "source": []
  },
  {
   "cell_type": "markdown",
   "id": "1836ebef-4cf7-4682-bb1b-cebca299ed03",
   "metadata": {},
   "source": [
    "# PDF"
   ]
  },
  {
   "cell_type": "markdown",
   "id": "00c95a37-a786-4093-8900-d7dbfb48d513",
   "metadata": {},
   "source": [
    "\n"
   ]
  },
  {
   "cell_type": "markdown",
   "id": "5aef3d2a-6c4b-4f5d-8629-b6f63fb59be4",
   "metadata": {},
   "source": [
    "## Using Python code"
   ]
  },
  {
   "cell_type": "code",
   "execution_count": 11,
   "id": "c83aab99-8610-46aa-94a8-39ea01e0e95c",
   "metadata": {},
   "outputs": [
    {
     "data": {
      "text/html": [
       "\n",
       "        <iframe\n",
       "            width=\"1000\"\n",
       "            height=\"600\"\n",
       "            src=\"Python Basic.pdf\"\n",
       "            frameborder=\"0\"\n",
       "            allowfullscreen\n",
       "            \n",
       "        ></iframe>\n",
       "        "
      ],
      "text/plain": [
       "<IPython.lib.display.IFrame at 0x28a7072edb0>"
      ]
     },
     "execution_count": 11,
     "metadata": {},
     "output_type": "execute_result"
    }
   ],
   "source": [
    "from IPython.display import IFrame\n",
    "IFrame(\"Python Basic.pdf\", width=1000, height=600)"
   ]
  },
  {
   "cell_type": "code",
   "execution_count": null,
   "id": "ccb3980e-2383-44a4-8c6d-8f98b41bead4",
   "metadata": {},
   "outputs": [],
   "source": []
  }
 ],
 "metadata": {
  "kernelspec": {
   "display_name": "Python 3 (ipykernel)",
   "language": "python",
   "name": "python3"
  },
  "language_info": {
   "codemirror_mode": {
    "name": "ipython",
    "version": 3
   },
   "file_extension": ".py",
   "mimetype": "text/x-python",
   "name": "python",
   "nbconvert_exporter": "python",
   "pygments_lexer": "ipython3",
   "version": "3.12.4"
  }
 },
 "nbformat": 4,
 "nbformat_minor": 5
}
